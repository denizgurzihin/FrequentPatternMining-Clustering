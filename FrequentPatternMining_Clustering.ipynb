{
  "nbformat": 4,
  "nbformat_minor": 0,
  "metadata": {
    "colab": {
      "name": "Data Mining Project#2",
      "provenance": [],
      "collapsed_sections": [
        "DT85xcfQ6JQX",
        "PT9Aro0LjTXl",
        "Blzoe93kb1CZ"
      ],
      "toc_visible": true
    },
    "kernelspec": {
      "display_name": "Python 3",
      "name": "python3"
    }
  },
  "cells": [
    {
      "cell_type": "markdown",
      "metadata": {
        "id": "ZJaMvD48ppU4"
      },
      "source": [
        "# ***GENERAL INFORMATION ABOUT DATA***"
      ]
    },
    {
      "cell_type": "code",
      "metadata": {
        "colab": {
          "base_uri": "https://localhost:8080/",
          "height": 734
        },
        "id": "OpoHFGfxeIqn",
        "outputId": "8f7bc76e-b2ff-4ebd-b931-a0950d195767"
      },
      "source": [
        "import pandas as pd \n",
        "import time\n",
        "col_names = ['Administrative', 'Administrative_Duration', 'Informational', 'Informational_Duration', 'ProductRelated', 'ProductRelated_Duration', 'BounceRates', 'ExitRates', 'PageValues', 'SpecialDay', 'Month', 'OperatingSystems', 'Browser', 'Region', 'TrafficType', 'VisitorType','Weekend', 'Revenue']\n",
        "Data_F_M_P = pd.read_csv(\"online_shoppers_intention.csv\", header=0, names=col_names)\n",
        "\n",
        "Data_F_M_P.info()\n",
        "print(\"\\nAs we can see, there is 12330 instances on our dataset.\\nThey do not contain null instances...\\n\")\n",
        "print(\"Sample instances can be seen below...\")\n",
        "Data_F_M_P.head()\n"
      ],
      "execution_count": null,
      "outputs": [
        {
          "output_type": "stream",
          "text": [
            "<class 'pandas.core.frame.DataFrame'>\n",
            "RangeIndex: 12330 entries, 0 to 12329\n",
            "Data columns (total 18 columns):\n",
            " #   Column                   Non-Null Count  Dtype  \n",
            "---  ------                   --------------  -----  \n",
            " 0   Administrative           12330 non-null  int64  \n",
            " 1   Administrative_Duration  12330 non-null  float64\n",
            " 2   Informational            12330 non-null  int64  \n",
            " 3   Informational_Duration   12330 non-null  float64\n",
            " 4   ProductRelated           12330 non-null  int64  \n",
            " 5   ProductRelated_Duration  12330 non-null  float64\n",
            " 6   BounceRates              12330 non-null  float64\n",
            " 7   ExitRates                12330 non-null  float64\n",
            " 8   PageValues               12330 non-null  float64\n",
            " 9   SpecialDay               12330 non-null  float64\n",
            " 10  Month                    12330 non-null  object \n",
            " 11  OperatingSystems         12330 non-null  int64  \n",
            " 12  Browser                  12330 non-null  int64  \n",
            " 13  Region                   12330 non-null  int64  \n",
            " 14  TrafficType              12330 non-null  int64  \n",
            " 15  VisitorType              12330 non-null  object \n",
            " 16  Weekend                  12330 non-null  bool   \n",
            " 17  Revenue                  12330 non-null  bool   \n",
            "dtypes: bool(2), float64(7), int64(7), object(2)\n",
            "memory usage: 1.5+ MB\n",
            "\n",
            "As we can see, there is 12330 instances on our dataset.\n",
            "They do not contain null instances...\n",
            "\n",
            "Sample instances can be seen below...\n"
          ],
          "name": "stdout"
        },
        {
          "output_type": "execute_result",
          "data": {
            "text/html": [
              "<div>\n",
              "<style scoped>\n",
              "    .dataframe tbody tr th:only-of-type {\n",
              "        vertical-align: middle;\n",
              "    }\n",
              "\n",
              "    .dataframe tbody tr th {\n",
              "        vertical-align: top;\n",
              "    }\n",
              "\n",
              "    .dataframe thead th {\n",
              "        text-align: right;\n",
              "    }\n",
              "</style>\n",
              "<table border=\"1\" class=\"dataframe\">\n",
              "  <thead>\n",
              "    <tr style=\"text-align: right;\">\n",
              "      <th></th>\n",
              "      <th>Administrative</th>\n",
              "      <th>Administrative_Duration</th>\n",
              "      <th>Informational</th>\n",
              "      <th>Informational_Duration</th>\n",
              "      <th>ProductRelated</th>\n",
              "      <th>ProductRelated_Duration</th>\n",
              "      <th>BounceRates</th>\n",
              "      <th>ExitRates</th>\n",
              "      <th>PageValues</th>\n",
              "      <th>SpecialDay</th>\n",
              "      <th>Month</th>\n",
              "      <th>OperatingSystems</th>\n",
              "      <th>Browser</th>\n",
              "      <th>Region</th>\n",
              "      <th>TrafficType</th>\n",
              "      <th>VisitorType</th>\n",
              "      <th>Weekend</th>\n",
              "      <th>Revenue</th>\n",
              "    </tr>\n",
              "  </thead>\n",
              "  <tbody>\n",
              "    <tr>\n",
              "      <th>0</th>\n",
              "      <td>0</td>\n",
              "      <td>0.0</td>\n",
              "      <td>0</td>\n",
              "      <td>0.0</td>\n",
              "      <td>1</td>\n",
              "      <td>0.000000</td>\n",
              "      <td>0.20</td>\n",
              "      <td>0.20</td>\n",
              "      <td>0.0</td>\n",
              "      <td>0.0</td>\n",
              "      <td>Feb</td>\n",
              "      <td>1</td>\n",
              "      <td>1</td>\n",
              "      <td>1</td>\n",
              "      <td>1</td>\n",
              "      <td>Returning_Visitor</td>\n",
              "      <td>False</td>\n",
              "      <td>False</td>\n",
              "    </tr>\n",
              "    <tr>\n",
              "      <th>1</th>\n",
              "      <td>0</td>\n",
              "      <td>0.0</td>\n",
              "      <td>0</td>\n",
              "      <td>0.0</td>\n",
              "      <td>2</td>\n",
              "      <td>64.000000</td>\n",
              "      <td>0.00</td>\n",
              "      <td>0.10</td>\n",
              "      <td>0.0</td>\n",
              "      <td>0.0</td>\n",
              "      <td>Feb</td>\n",
              "      <td>2</td>\n",
              "      <td>2</td>\n",
              "      <td>1</td>\n",
              "      <td>2</td>\n",
              "      <td>Returning_Visitor</td>\n",
              "      <td>False</td>\n",
              "      <td>False</td>\n",
              "    </tr>\n",
              "    <tr>\n",
              "      <th>2</th>\n",
              "      <td>0</td>\n",
              "      <td>0.0</td>\n",
              "      <td>0</td>\n",
              "      <td>0.0</td>\n",
              "      <td>1</td>\n",
              "      <td>0.000000</td>\n",
              "      <td>0.20</td>\n",
              "      <td>0.20</td>\n",
              "      <td>0.0</td>\n",
              "      <td>0.0</td>\n",
              "      <td>Feb</td>\n",
              "      <td>4</td>\n",
              "      <td>1</td>\n",
              "      <td>9</td>\n",
              "      <td>3</td>\n",
              "      <td>Returning_Visitor</td>\n",
              "      <td>False</td>\n",
              "      <td>False</td>\n",
              "    </tr>\n",
              "    <tr>\n",
              "      <th>3</th>\n",
              "      <td>0</td>\n",
              "      <td>0.0</td>\n",
              "      <td>0</td>\n",
              "      <td>0.0</td>\n",
              "      <td>2</td>\n",
              "      <td>2.666667</td>\n",
              "      <td>0.05</td>\n",
              "      <td>0.14</td>\n",
              "      <td>0.0</td>\n",
              "      <td>0.0</td>\n",
              "      <td>Feb</td>\n",
              "      <td>3</td>\n",
              "      <td>2</td>\n",
              "      <td>2</td>\n",
              "      <td>4</td>\n",
              "      <td>Returning_Visitor</td>\n",
              "      <td>False</td>\n",
              "      <td>False</td>\n",
              "    </tr>\n",
              "    <tr>\n",
              "      <th>4</th>\n",
              "      <td>0</td>\n",
              "      <td>0.0</td>\n",
              "      <td>0</td>\n",
              "      <td>0.0</td>\n",
              "      <td>10</td>\n",
              "      <td>627.500000</td>\n",
              "      <td>0.02</td>\n",
              "      <td>0.05</td>\n",
              "      <td>0.0</td>\n",
              "      <td>0.0</td>\n",
              "      <td>Feb</td>\n",
              "      <td>3</td>\n",
              "      <td>3</td>\n",
              "      <td>1</td>\n",
              "      <td>4</td>\n",
              "      <td>Returning_Visitor</td>\n",
              "      <td>True</td>\n",
              "      <td>False</td>\n",
              "    </tr>\n",
              "  </tbody>\n",
              "</table>\n",
              "</div>"
            ],
            "text/plain": [
              "   Administrative  Administrative_Duration  ...  Weekend  Revenue\n",
              "0               0                      0.0  ...    False    False\n",
              "1               0                      0.0  ...    False    False\n",
              "2               0                      0.0  ...    False    False\n",
              "3               0                      0.0  ...    False    False\n",
              "4               0                      0.0  ...     True    False\n",
              "\n",
              "[5 rows x 18 columns]"
            ]
          },
          "metadata": {
            "tags": []
          },
          "execution_count": 1
        }
      ]
    },
    {
      "cell_type": "markdown",
      "metadata": {
        "id": "UPkWVl7IEQ_Y"
      },
      "source": [
        "# ***Data Preprocess For Frequent Mining***"
      ]
    },
    {
      "cell_type": "code",
      "metadata": {
        "id": "rgTfeum1isfB",
        "colab": {
          "base_uri": "https://localhost:8080/"
        },
        "outputId": "52c0a03a-6df5-4b7e-914c-e8faa197e5cf"
      },
      "source": [
        "pip install kmeans1d"
      ],
      "execution_count": null,
      "outputs": [
        {
          "output_type": "stream",
          "text": [
            "Collecting kmeans1d\n",
            "\u001b[?25l  Downloading https://files.pythonhosted.org/packages/b7/3d/9154a7ba17176d14c6c0e46e2e8fd53cd9645616f5ed412ca36022ba0c95/kmeans1d-0.3.1-cp36-cp36m-manylinux2014_x86_64.whl (93kB)\n",
            "\r\u001b[K     |███▌                            | 10kB 17.6MB/s eta 0:00:01\r\u001b[K     |███████                         | 20kB 10.4MB/s eta 0:00:01\r\u001b[K     |██████████▌                     | 30kB 7.1MB/s eta 0:00:01\r\u001b[K     |██████████████                  | 40kB 6.4MB/s eta 0:00:01\r\u001b[K     |█████████████████▌              | 51kB 4.2MB/s eta 0:00:01\r\u001b[K     |█████████████████████           | 61kB 4.7MB/s eta 0:00:01\r\u001b[K     |████████████████████████▌       | 71kB 4.8MB/s eta 0:00:01\r\u001b[K     |████████████████████████████    | 81kB 5.1MB/s eta 0:00:01\r\u001b[K     |███████████████████████████████▌| 92kB 5.1MB/s eta 0:00:01\r\u001b[K     |████████████████████████████████| 102kB 3.8MB/s \n",
            "\u001b[?25hInstalling collected packages: kmeans1d\n",
            "Successfully installed kmeans1d-0.3.1\n"
          ],
          "name": "stdout"
        }
      ]
    },
    {
      "cell_type": "code",
      "metadata": {
        "id": "qojtY_Saityo"
      },
      "source": [
        "import kmeans1d\n",
        "import numpy as np\n",
        "\n",
        "Data_A = Data_F_M_P.Administrative\n",
        "Data_AD = Data_F_M_P.Administrative_Duration\n",
        "Data_I = Data_F_M_P.Informational\n",
        "Data_ID = Data_F_M_P.Informational_Duration\n",
        "Data_PR = Data_F_M_P.ProductRelated\n",
        "Data_PRD = Data_F_M_P.ProductRelated_Duration\n",
        "Data_BR = Data_F_M_P.BounceRates\n",
        "Data_ER = Data_F_M_P.ExitRates\n",
        "Data_PV = Data_F_M_P.PageValues\n",
        "Data_SD = Data_F_M_P.SpecialDay\n",
        "Data_OS = Data_F_M_P.OperatingSystems\n",
        "Data_B = Data_F_M_P.Browser\n",
        "Data_R = Data_F_M_P.Region\n",
        "Data_TT = Data_F_M_P.TrafficType\n",
        "Data_W = Data_F_M_P.Weekend\n",
        "Data_Label = Data_F_M_P.Revenue\n",
        "\n",
        "Data_A_Arr = pd.Series(Data_A).array\n",
        "Data_AD_Arr = pd.Series(Data_AD).array\n",
        "Data_I_Arr = pd.Series(Data_I).array\n",
        "Data_ID_Arr = pd.Series(Data_ID).array\n",
        "Data_PR_Arr = pd.Series(Data_PR).array\n",
        "Data_PRD_Arr = pd.Series(Data_PRD).array\n",
        "Data_BR_Arr = pd.Series(Data_BR).array\n",
        "Data_ER_Arr = pd.Series(Data_ER).array\n",
        "Data_PV_Arr = pd.Series(Data_PV).array\n",
        "Data_SD_Arr = pd.Series(Data_SD).array\n",
        "Data_OS_Arr = pd.Series(Data_OS).array\n",
        "Data_B_Arr = pd.Series(Data_B).array\n",
        "Data_R_Arr = pd.Series(Data_R).array\n",
        "Data_TT_Arr = pd.Series(Data_TT).array\n",
        "Data_W_Arr = pd.Series(Data_W).array\n",
        "Data_Label_Arr = pd.Series(Data_Label).array\n",
        "\n",
        "clusters, centroids_A = kmeans1d.cluster(Data_A_Arr, 5)\n",
        "clusters, centroids_AD = kmeans1d.cluster(Data_AD_Arr, 5)\n",
        "clusters, centroids_I = kmeans1d.cluster(Data_I_Arr, 5)\n",
        "clusters, centroids_ID = kmeans1d.cluster(Data_ID_Arr, 5)\n",
        "clusters, centroids_PR = kmeans1d.cluster(Data_PR_Arr, 5)\n",
        "clusters, centroids_PRD = kmeans1d.cluster(Data_PRD_Arr, 5)\n",
        "clusters, centroids_BR = kmeans1d.cluster(Data_BR_Arr, 5)\n",
        "clusters, centroids_ER = kmeans1d.cluster(Data_ER_Arr, 5)\n",
        "clusters, centroids_PV = kmeans1d.cluster(Data_PV_Arr, 5)\n",
        "clusters, centroids_SD = kmeans1d.cluster(Data_SD_Arr, 5)\n",
        "\n",
        "\n",
        "def find_Centroid(arr):\n",
        "  Out = np.array([0.0, 0.0, 0.0, 0.0])\n",
        "  Out[0] = (arr[0] + arr[1]) / 2\n",
        "  Out[1] = (arr[1] + arr[2]) / 2\n",
        "  Out[2] = (arr[2] + arr[3]) / 2\n",
        "  Out[3] = (arr[3] + arr[4]) / 2\n",
        "  return Out\n",
        "\n",
        "Cat_A = find_Centroid(centroids_A)\n",
        "Cat_AD = find_Centroid(centroids_AD)\n",
        "Cat_I = find_Centroid(centroids_I)\n",
        "Cat_ID = find_Centroid(centroids_ID)\n",
        "Cat_PR = find_Centroid(centroids_PR)\n",
        "Cat_PRD = find_Centroid(centroids_PRD)\n",
        "Cat_BR = find_Centroid(centroids_BR)\n",
        "Cat_ER = find_Centroid(centroids_ER)\n",
        "Cat_PV = find_Centroid(centroids_PV)\n",
        "Cat_SD = find_Centroid(centroids_SD)\n",
        "\n",
        "\n",
        "def find_Category(data, cat, ab):\n",
        "  cat_data = []\n",
        "  for every_data in data:\n",
        "    if( float(every_data) <= cat[0]):\n",
        "      string = ab+\"_1\"\n",
        "      cat_data.append(string)\n",
        "    elif( float(every_data) <= cat[1]):\n",
        "      string = ab+\"_2\"\n",
        "      cat_data.append(string)\n",
        "    elif( float(every_data) <= cat[2]):\n",
        "      string = ab+\"_3\"\n",
        "      cat_data.append(string)\n",
        "    elif( float(every_data) <= cat[3]):\n",
        "      string = ab+\"_4\"\n",
        "      cat_data.append(string)\n",
        "    else:\n",
        "      string = ab+\"_5\"\n",
        "      cat_data.append(string)\n",
        "  return cat_data\n",
        "\n",
        "Data_A_Cat = find_Category(Data_A, Cat_A, \"A\")\n",
        "Data_AD_Cat = find_Category(Data_AD, Cat_AD, \"AD\")\n",
        "Data_I_Cat = find_Category(Data_I, Cat_I, \"I\")\n",
        "Data_ID_Cat = find_Category(Data_ID, Cat_ID, \"ID\")\n",
        "Data_PR_Cat = find_Category(Data_PR, Cat_PR, \"PR\")\n",
        "Data_PRD_Cat = find_Category(Data_PRD, Cat_PRD, \"PRD\")\n",
        "Data_BR_Cat = find_Category(Data_BR, Cat_BR, \"BR\")\n",
        "Data_ER_Cat = find_Category(Data_ER, Cat_ER, \"ER\")\n",
        "Data_PV_Cat = find_Category(Data_PV, Cat_PV, \"PV\")\n",
        "Data_SD_Cat = find_Category(Data_SD, Cat_SD, \"SD\")\n",
        "\n",
        "\n",
        "def change_Data(arr, ab):\n",
        "  data = []\n",
        "  for i in arr:\n",
        "    string = str(ab) + \"_\" + str(i)\n",
        "    data.append(string)\n",
        "  return data\n",
        "\n"
      ],
      "execution_count": null,
      "outputs": []
    },
    {
      "cell_type": "code",
      "metadata": {
        "id": "a40YsJokiwIP"
      },
      "source": [
        "df_Data_A_Cat = pd.get_dummies(Data_A_Cat)\n",
        "df_Data_AD_Cat = pd.get_dummies(Data_AD_Cat)\n",
        "df_Data_I_Cat = pd.get_dummies(Data_I_Cat)\n",
        "df_Data_ID_Cat = pd.get_dummies(Data_ID_Cat)\n",
        "df_Data_PR_Cat = pd.get_dummies(Data_PR_Cat)\n",
        "df_Data_PRD_Cat = pd.get_dummies(Data_PRD_Cat)\n",
        "df_Data_BR_Cat = pd.get_dummies(Data_BR_Cat)\n",
        "df_Data_ER_Cat = pd.get_dummies(Data_ER_Cat)\n",
        "df_Data_PV_Cat = pd.get_dummies(Data_PV_Cat)\n",
        "df_Data_SD_Cat = pd.get_dummies(Data_SD_Cat)\n",
        "df_Data_Month = pd.get_dummies(Data_F_M_P.Month)\n",
        "\n",
        "Cat_OS = change_Data(Data_OS_Arr, \"OS\")\n",
        "df_Data_OS_Cat = pd.get_dummies(Cat_OS)\n",
        "\n",
        "Cat_B = change_Data(Data_B_Arr, \"B\")\n",
        "df_Data_B_Cat = pd.get_dummies(Cat_B)\n",
        "\n",
        "Cat_R = change_Data(Data_R_Arr, \"R\")\n",
        "df_Data_R_Cat = pd.get_dummies(Cat_R)\n",
        "\n",
        "Cat_TT = change_Data(Data_TT_Arr, \"TT\")\n",
        "df_Data_TT_Cat = pd.get_dummies(Cat_TT)\n",
        "\n",
        "df_Data_VT_Cat = pd.get_dummies(Data_F_M_P.VisitorType)\n",
        "\n",
        "Cat_W = change_Data(Data_W_Arr, \"W\")\n",
        "df_Data_W_Cat = pd.get_dummies(Cat_W)\n",
        "\n",
        "Cat_Label = change_Data(Data_Label_Arr, \"Revenue\")\n",
        "df_Data_Label_Cat = pd.get_dummies(Cat_Label)\n",
        "\n",
        "\n"
      ],
      "execution_count": null,
      "outputs": []
    },
    {
      "cell_type": "code",
      "metadata": {
        "colab": {
          "base_uri": "https://localhost:8080/"
        },
        "id": "MNZ8vDmIkEa3",
        "outputId": "35040389-66eb-480d-dfca-2612bb62c36a"
      },
      "source": [
        "print(\"Since we have change numerical data to categorical data, the new category is looking like this: \\n\")\n",
        "\n",
        "print(\"For Administrative : A_1 < \"+ str(Cat_A[0]) + \" < A_2 < \"+ str(Cat_A[1]) + \" < A_3 < \"+ str(Cat_A[2]) + \" < A_4 < \"+ str(Cat_A[3]) + \" < A_5\")\n",
        "print(\"For Administrative_Duration : AD_1 < \"+ str(Cat_AD[0]) + \" < AD_2 < \"+ str(Cat_AD[1]) + \" < AD_3 < \"+ str(Cat_AD[2]) + \" < AD_4 < \"+ str(Cat_AD[3]) + \" < AD_5\")\n",
        "print(\"For Informational : I_1 < \"+ str(Cat_I[0]) + \" < I_2 < \"+ str(Cat_I[1]) + \" < I_3 < \"+ str(Cat_I[2]) + \" < I_4 < \"+ str(Cat_I[3]) + \" < I_5\")\n",
        "print(\"For Informational_Duration : ID_1 < \"+ str(Cat_ID[0]) + \" < ID_2 < \"+ str(Cat_ID[1]) + \" < ID_3 < \"+ str(Cat_ID[2]) + \" < ID_4 < \"+ str(Cat_ID[3]) + \" < ID_5\")\n",
        "print(\"For ProductRelated : PR_1 < \"+ str(Cat_PR[0]) + \" < PR_2 < \"+ str(Cat_PR[1]) + \" < PR_3 < \"+ str(Cat_PR[2]) + \" < PR_4 < \"+ str(Cat_PR[3]) + \" < PR_5\")\n",
        "print(\"For ProductRelated_Duration : PRD_1 < \"+ str(Cat_PRD[0]) + \" < PRD_2 < \"+ str(Cat_PRD[1]) + \" < PRD_3 < \"+ str(Cat_PRD[2]) + \" < PRD_4 < \"+ str(Cat_PRD[3]) + \" < PRD_5\")\n",
        "print(\"For BounceRates : BR_1 < \"+ str(Cat_BR[0]) + \" < BR_2 < \"+ str(Cat_BR[1]) + \" < BR_3 < \"+ str(Cat_BR[2]) + \" < BR_4 < \"+ str(Cat_BR[3]) + \" < BR_5\")\n",
        "print(\"For ExitRates : ER_1 < \"+ str(Cat_ER[0]) + \" < ER_2 < \"+ str(Cat_ER[1]) + \" < ER_3 < \"+ str(Cat_ER[2]) + \" < ER_4 < \"+ str(Cat_ER[3]) + \" < ER_5\")\n",
        "print(\"For PageValues : PV_1 < \"+ str(Cat_PV[0]) + \" < PV_2 < \"+ str(Cat_PV[1]) + \" < PV_3 < \"+ str(Cat_PV[2]) + \" < PV_4 < \"+ str(Cat_PV[3]) + \" < PV_5\")\n",
        "print(\"For SpecialDay : SD_1 < \"+ str(Cat_SD[0]) + \" < SD_2 < \"+ str(Cat_SD[1]) + \" < SD_3 < \"+ str(Cat_SD[2]) + \" < SD_4 < \"+ str(Cat_SD[3]) + \" < SD_5\")"
      ],
      "execution_count": null,
      "outputs": [
        {
          "output_type": "stream",
          "text": [
            "Since we have change numerical data to categorical data, the new category is looking like this: \n",
            "\n",
            "For Administrative : A_1 < 1.532602306824688 < A_2 < 4.34944064950651 < A_3 < 7.606989368724594 < A_4 < 12.413403317098851 < A_5\n",
            "For Administrative_Duration : AD_1 < 74.23691653436889 < AD_2 < 240.4002441486402 < AD_3 < 550.3254789482 < AD_4 < 1187.1870644196533 < AD_5\n",
            "For Informational : I_1 < 0.7057659694742804 < I_2 < 2.390151351534081 < I_3 < 4.607292871046585 < I_4 < 8.331998398077694 < I_5\n",
            "For Informational_Duration : ID_1 < 79.84259676160222 < ID_2 < 289.7912460722083 < ID_3 < 656.3091289472616 < ID_4 < 1283.9265374540312 < ID_5\n",
            "For ProductRelated : PR_1 < 25.580363967867438 < PR_2 < 66.46363558298239 < PR_3 < 135.43613796055214 < PR_4 < 273.3337435056056 < PR_5\n",
            "For ProductRelated_Duration : PRD_1 < 1114.0451696475359 < PRD_2 < 3194.4972051542445 < PRD_3 < 7283.444989482803 < PRD_4 < 20154.43662074202 < PRD_5\n",
            "For BounceRates : BR_1 < 0.010748268832862251 < BR_2 < 0.03560063548329395 < BR_3 < 0.07827535693791962 < BR_4 < 0.1520666691181783 < BR_5\n",
            "For ExitRates : ER_1 < 0.02181343113165985 < ER_2 < 0.04593321752928087 < ER_3 < 0.0849087753228437 < ER_4 < 0.15311635174719257 < ER_5\n",
            "For PageValues : PV_1 < 10.501767482150722 < PV_2 < 35.71874799414466 < PV_3 < 75.78946744412488 < PV_4 < 170.42514487941276 < PV_5\n",
            "For SpecialDay : SD_1 < 0.1577197149643706 < SD_2 < 0.4577197149643706 < SD_3 < 0.7 < SD_4 < 0.9 < SD_5\n"
          ],
          "name": "stdout"
        }
      ]
    },
    {
      "cell_type": "code",
      "metadata": {
        "colab": {
          "base_uri": "https://localhost:8080/"
        },
        "id": "O4A1FRQ1kE6n",
        "outputId": "051a86e3-e26a-4487-ae74-b7088fb0417f"
      },
      "source": [
        "DF_F_P_M = pd.concat((df_Data_A_Cat, df_Data_AD_Cat, df_Data_I_Cat, df_Data_ID_Cat, df_Data_PR_Cat, df_Data_PRD_Cat), axis=1)\n",
        "DF_F_P_M = pd.concat((DF_F_P_M, df_Data_BR_Cat, df_Data_ER_Cat, df_Data_PV_Cat, df_Data_SD_Cat, df_Data_Month, df_Data_B_Cat), axis=1)\n",
        "DF_F_P_M = pd.concat((DF_F_P_M, df_Data_OS_Cat, df_Data_R_Cat, df_Data_TT_Cat, df_Data_VT_Cat, df_Data_W_Cat, df_Data_Label_Cat), axis=1)\n",
        "print(\"Our final Data Frame is looking like: \\n\")\n",
        "print(DF_F_P_M)"
      ],
      "execution_count": null,
      "outputs": [
        {
          "output_type": "stream",
          "text": [
            "Our final Data Frame is looking like: \n",
            "\n",
            "       A_1  A_2  A_3  A_4  ...  W_False  W_True  Revenue_False  Revenue_True\n",
            "0        1    0    0    0  ...        1       0              1             0\n",
            "1        1    0    0    0  ...        1       0              1             0\n",
            "2        1    0    0    0  ...        1       0              1             0\n",
            "3        1    0    0    0  ...        1       0              1             0\n",
            "4        1    0    0    0  ...        0       1              1             0\n",
            "...    ...  ...  ...  ...  ...      ...     ...            ...           ...\n",
            "12325    0    1    0    0  ...        0       1              1             0\n",
            "12326    1    0    0    0  ...        0       1              1             0\n",
            "12327    1    0    0    0  ...        0       1              1             0\n",
            "12328    0    1    0    0  ...        1       0              1             0\n",
            "12329    1    0    0    0  ...        0       1              1             0\n",
            "\n",
            "[12330 rows x 117 columns]\n"
          ],
          "name": "stdout"
        }
      ]
    },
    {
      "cell_type": "markdown",
      "metadata": {
        "id": "sHIN1pwCj0i6"
      },
      "source": [
        "# ***APRIORI Frequent Pattern Mining***\n",
        "\n"
      ]
    },
    {
      "cell_type": "code",
      "metadata": {
        "colab": {
          "base_uri": "https://localhost:8080/"
        },
        "id": "pb4Tv2_Czqhv",
        "outputId": "ad39e58b-005a-46b9-9c46-7bcc066ba6d2"
      },
      "source": [
        "!pip install kmeans1d\n",
        "!pip install mlxtend --upgrade --no-deps"
      ],
      "execution_count": null,
      "outputs": [
        {
          "output_type": "stream",
          "text": [
            "Requirement already satisfied: kmeans1d in /usr/local/lib/python3.6/dist-packages (0.3.1)\n",
            "Collecting mlxtend\n",
            "\u001b[?25l  Downloading https://files.pythonhosted.org/packages/86/30/781c0b962a70848db83339567ecab656638c62f05adb064cb33c0ae49244/mlxtend-0.18.0-py2.py3-none-any.whl (1.3MB)\n",
            "\u001b[K     |████████████████████████████████| 1.4MB 5.5MB/s \n",
            "\u001b[?25hInstalling collected packages: mlxtend\n",
            "  Found existing installation: mlxtend 0.14.0\n",
            "    Uninstalling mlxtend-0.14.0:\n",
            "      Successfully uninstalled mlxtend-0.14.0\n",
            "Successfully installed mlxtend-0.18.0\n"
          ],
          "name": "stdout"
        }
      ]
    },
    {
      "cell_type": "code",
      "metadata": {
        "colab": {
          "base_uri": "https://localhost:8080/"
        },
        "id": "jPHNFoEUj_Sr",
        "outputId": "4e03009c-283d-45e1-a898-b5ab7a4c6056"
      },
      "source": [
        "import pandas as pd\n",
        "from mlxtend.frequent_patterns import association_rules, apriori\n",
        "start_time = time.time()\n",
        "DF_Apriori = DF_F_P_M\n",
        "\n",
        "# Not taking frequent_itemsets that have a support less than 0.7\n",
        "frequent_itemsets = apriori(DF_Apriori, min_support=0.7, use_colnames=True)\n",
        "\n",
        "print('\\nFrequent Itemsets: ')\n",
        "print(frequent_itemsets)\n"
      ],
      "execution_count": null,
      "outputs": [
        {
          "output_type": "stream",
          "text": [
            "\n",
            "Frequent Itemsets: \n",
            "     support                            itemsets\n",
            "0   0.707461                              (AD_1)\n",
            "1   0.786618                               (I_1)\n",
            "2   0.903893                              (ID_1)\n",
            "3   0.857178                              (PV_1)\n",
            "4   0.898540                              (SD_1)\n",
            "5   0.855718                 (Returning_Visitor)\n",
            "6   0.767397                           (W_False)\n",
            "7   0.845255                     (Revenue_False)\n",
            "8   0.786618                         (I_1, ID_1)\n",
            "9   0.700487                         (I_1, SD_1)\n",
            "10  0.783861                        (PV_1, ID_1)\n",
            "11  0.808597                        (SD_1, ID_1)\n",
            "12  0.768289           (Returning_Visitor, ID_1)\n",
            "13  0.773966               (Revenue_False, ID_1)\n",
            "14  0.763341                        (SD_1, PV_1)\n",
            "15  0.742822           (Returning_Visitor, PV_1)\n",
            "16  0.797080               (Revenue_False, PV_1)\n",
            "17  0.758962           (SD_1, Returning_Visitor)\n",
            "18  0.750041               (Revenue_False, SD_1)\n",
            "19  0.736496  (Revenue_False, Returning_Visitor)\n",
            "20  0.700487                   (I_1, SD_1, ID_1)\n",
            "21  0.736091         (Revenue_False, PV_1, ID_1)\n",
            "22  0.704704         (Revenue_False, SD_1, PV_1)\n"
          ],
          "name": "stdout"
        }
      ]
    },
    {
      "cell_type": "code",
      "metadata": {
        "colab": {
          "base_uri": "https://localhost:8080/"
        },
        "id": "RByi9Hba12n-",
        "outputId": "7cb2d940-6547-4234-9a82-d99bfc983af5"
      },
      "source": [
        "pd.set_option\n",
        "#pd.set_option('max_rows', 100)\n",
        "pd.set_option('display.max_columns', 100)\n",
        "pd.set_option('max_colwidth', 300)\n",
        "\n",
        "association_r = association_rules(frequent_itemsets, metric=\"lift\", min_threshold=1)\n",
        "print('\\nAssociation Rules: ')\n",
        "print(association_r)\n",
        "\n",
        "# resetting the values to default \n",
        "#pd.reset_option(\"display.max_rows\") \n",
        "pd.reset_option(\"display.max_colwidth\") \n",
        "pd.reset_option(\"display.max_columns\") "
      ],
      "execution_count": null,
      "outputs": [
        {
          "output_type": "stream",
          "text": [
            "\n",
            "Association Rules: \n",
            "              antecedents            consequents  antecedent support  \\\n",
            "0                   (I_1)                 (ID_1)            0.786618   \n",
            "1                  (ID_1)                  (I_1)            0.903893   \n",
            "2                  (PV_1)                 (ID_1)            0.857178   \n",
            "3                  (ID_1)                 (PV_1)            0.903893   \n",
            "4         (Revenue_False)                 (ID_1)            0.845255   \n",
            "5                  (ID_1)        (Revenue_False)            0.903893   \n",
            "6     (Returning_Visitor)                 (PV_1)            0.855718   \n",
            "7                  (PV_1)    (Returning_Visitor)            0.857178   \n",
            "8         (Revenue_False)                 (PV_1)            0.845255   \n",
            "9                  (PV_1)        (Revenue_False)            0.857178   \n",
            "10        (Revenue_False)    (Returning_Visitor)            0.845255   \n",
            "11    (Returning_Visitor)        (Revenue_False)            0.855718   \n",
            "12            (I_1, SD_1)                 (ID_1)            0.700487   \n",
            "13           (SD_1, ID_1)                  (I_1)            0.808597   \n",
            "14                  (I_1)           (SD_1, ID_1)            0.786618   \n",
            "15                 (ID_1)            (I_1, SD_1)            0.903893   \n",
            "16  (Revenue_False, PV_1)                 (ID_1)            0.797080   \n",
            "17  (Revenue_False, ID_1)                 (PV_1)            0.773966   \n",
            "18           (PV_1, ID_1)        (Revenue_False)            0.783861   \n",
            "19        (Revenue_False)           (PV_1, ID_1)            0.845255   \n",
            "20                 (PV_1)  (Revenue_False, ID_1)            0.857178   \n",
            "21                 (ID_1)  (Revenue_False, PV_1)            0.903893   \n",
            "22  (Revenue_False, SD_1)                 (PV_1)            0.750041   \n",
            "23           (SD_1, PV_1)        (Revenue_False)            0.763341   \n",
            "24        (Revenue_False)           (SD_1, PV_1)            0.845255   \n",
            "25                 (PV_1)  (Revenue_False, SD_1)            0.857178   \n",
            "\n",
            "    consequent support   support  confidence      lift  leverage  conviction  \n",
            "0             0.903893  0.786618    1.000000  1.106326  0.075600         inf  \n",
            "1             0.786618  0.786618    0.870256  1.106326  0.075600    1.644635  \n",
            "2             0.903893  0.783861    0.914467  1.011698  0.009064    1.123623  \n",
            "3             0.857178  0.783861    0.867205  1.011698  0.009064    1.075510  \n",
            "4             0.903893  0.773966    0.915659  1.013017  0.009945    1.139508  \n",
            "5             0.845255  0.773966    0.856258  1.013017  0.009945    1.076547  \n",
            "6             0.857178  0.742822    0.868069  1.012707  0.009320    1.082557  \n",
            "7             0.855718  0.742822    0.866591  1.012707  0.009320    1.081503  \n",
            "8             0.857178  0.797080    0.943005  1.100128  0.072546    2.505884  \n",
            "9             0.845255  0.797080    0.929889  1.100128  0.072546    2.207146  \n",
            "10            0.855718  0.736496    0.871330  1.018244  0.013196    1.121334  \n",
            "11            0.845255  0.736496    0.860677  1.018244  0.013196    1.110687  \n",
            "12            0.903893  0.700487    1.000000  1.106326  0.067322         inf  \n",
            "13            0.786618  0.700487    0.866299  1.101296  0.064430    1.595963  \n",
            "14            0.808597  0.700487    0.890504  1.101296  0.064430    1.748040  \n",
            "15            0.700487  0.700487    0.774966  1.106326  0.067322    1.330972  \n",
            "16            0.903893  0.736091    0.923484  1.021674  0.015616    1.256037  \n",
            "17            0.857178  0.736091    0.951064  1.109529  0.072665    2.918531  \n",
            "18            0.845255  0.736091    0.939058  1.110976  0.073528    2.539229  \n",
            "19            0.783861  0.736091    0.870850  1.110976  0.073528    1.673556  \n",
            "20            0.773966  0.736091    0.858738  1.109529  0.072665    1.600103  \n",
            "21            0.797080  0.736091    0.814356  1.021674  0.015616    1.093060  \n",
            "22            0.857178  0.704704    0.939554  1.096102  0.061786    2.362829  \n",
            "23            0.845255  0.704704    0.923183  1.092194  0.059485    2.014461  \n",
            "24            0.763341  0.704704    0.833717  1.092194  0.059485    1.423229  \n",
            "25            0.750041  0.704704    0.822121  1.096102  0.061786    1.405224  \n"
          ],
          "name": "stdout"
        }
      ]
    },
    {
      "cell_type": "code",
      "metadata": {
        "colab": {
          "base_uri": "https://localhost:8080/"
        },
        "id": "gwcQKB5U4gB-",
        "outputId": "6d8be6cb-c6dc-4de1-c35f-13919fe26aee"
      },
      "source": [
        "antecendents_arr = association_r.antecedents\n",
        "consequents_arr = association_r.consequents\n",
        "support_arr = association_r.support\n",
        "\n",
        "for i in range(len(support_arr)):\n",
        "  a_ls = list(antecendents_arr[i])\n",
        "  c_ls = list(consequents_arr[i])\n",
        "\n",
        "  revenue_true = \"Revenue_True\"\n",
        "  revenue_false = \"Revenue_False\"\n",
        "  if revenue_true in str(a_ls):\n",
        "    message = \"If Revenue True then it contains \" + str(c_ls) + \"  with support \" + str(support_arr[i])\n",
        "    print(message)\n",
        "  elif revenue_false in str(a_ls):\n",
        "    message = \"If Revenue False then it contains \" + str(c_ls) + \"  with support \" + str(support_arr[i])\n",
        "    print(message)\n",
        "print(\"--- Apriori: %s seconds ---\" % (time.time() - start_time))"
      ],
      "execution_count": null,
      "outputs": [
        {
          "output_type": "stream",
          "text": [
            "If Revenue False then it contains ['ID_1']  with support 0.7739659367396594\n",
            "If Revenue False then it contains ['PV_1']  with support 0.7970802919708029\n",
            "If Revenue False then it contains ['Returning_Visitor']  with support 0.7364963503649635\n",
            "If Revenue False then it contains ['ID_1']  with support 0.7360908353609084\n",
            "If Revenue False then it contains ['PV_1']  with support 0.7360908353609084\n",
            "If Revenue False then it contains ['PV_1', 'ID_1']  with support 0.7360908353609084\n",
            "If Revenue False then it contains ['PV_1']  with support 0.7047039740470398\n",
            "If Revenue False then it contains ['SD_1', 'PV_1']  with support 0.7047039740470398\n",
            "--- Apriori: 13.549505949020386 seconds ---\n"
          ],
          "name": "stdout"
        }
      ]
    },
    {
      "cell_type": "markdown",
      "metadata": {
        "id": "I7oCj5_Ljorq"
      },
      "source": [
        "# ***FP-GROWTH Frequent Pattern Mining***"
      ]
    },
    {
      "cell_type": "code",
      "metadata": {
        "id": "ZltsTXzj2dSm",
        "colab": {
          "base_uri": "https://localhost:8080/"
        },
        "outputId": "bd69c7aa-067d-4c5f-f6f2-bfc61504e892"
      },
      "source": [
        "!pip install kmeans1d\n",
        "!pip install mlxtend --upgrade --no-deps"
      ],
      "execution_count": null,
      "outputs": [
        {
          "output_type": "stream",
          "text": [
            "Requirement already satisfied: kmeans1d in /usr/local/lib/python3.6/dist-packages (0.3.1)\n",
            "Requirement already up-to-date: mlxtend in /usr/local/lib/python3.6/dist-packages (0.18.0)\n"
          ],
          "name": "stdout"
        }
      ]
    },
    {
      "cell_type": "code",
      "metadata": {
        "colab": {
          "base_uri": "https://localhost:8080/"
        },
        "id": "-yTTNJLuj--p",
        "outputId": "515c7eaa-8148-49f3-e2d7-08c3f02ef9cf"
      },
      "source": [
        "import pandas as pd\n",
        "from mlxtend.frequent_patterns import fpgrowth, association_rules\n",
        "\n",
        "start_time = time.time()\n",
        "\n",
        "DF_FP_Growth = DF_F_P_M\n",
        "\n",
        "fp_frequent_itemset = fpgrowth(DF_FP_Growth, min_support=0.7, use_colnames=True)\n",
        "print(\"Frequent item set has been listed below...\")\n",
        "print(fp_frequent_itemset)\n"
      ],
      "execution_count": null,
      "outputs": [
        {
          "output_type": "stream",
          "text": [
            "Frequent item set has been listed below...\n",
            "     support                            itemsets\n",
            "0   0.903893                              (ID_1)\n",
            "1   0.898540                              (SD_1)\n",
            "2   0.857178                              (PV_1)\n",
            "3   0.855718                 (Returning_Visitor)\n",
            "4   0.845255                     (Revenue_False)\n",
            "5   0.786618                               (I_1)\n",
            "6   0.767397                           (W_False)\n",
            "7   0.707461                              (AD_1)\n",
            "8   0.808597                        (SD_1, ID_1)\n",
            "9   0.783861                        (PV_1, ID_1)\n",
            "10  0.763341                        (SD_1, PV_1)\n",
            "11  0.768289           (Returning_Visitor, ID_1)\n",
            "12  0.758962           (SD_1, Returning_Visitor)\n",
            "13  0.742822           (Returning_Visitor, PV_1)\n",
            "14  0.797080               (PV_1, Revenue_False)\n",
            "15  0.773966               (ID_1, Revenue_False)\n",
            "16  0.750041               (SD_1, Revenue_False)\n",
            "17  0.736496  (Returning_Visitor, Revenue_False)\n",
            "18  0.736091         (PV_1, ID_1, Revenue_False)\n",
            "19  0.704704         (SD_1, PV_1, Revenue_False)\n",
            "20  0.786618                         (ID_1, I_1)\n",
            "21  0.700487                         (SD_1, I_1)\n",
            "22  0.700487                   (SD_1, ID_1, I_1)\n"
          ],
          "name": "stdout"
        }
      ]
    },
    {
      "cell_type": "code",
      "metadata": {
        "colab": {
          "base_uri": "https://localhost:8080/"
        },
        "id": "-uZ92ZJ53GmF",
        "outputId": "1aa1c457-be56-4079-a179-7697342a1477"
      },
      "source": [
        "pd.set_option\n",
        "#pd.set_option('max_rows', 100)\n",
        "pd.set_option('display.max_columns', 100)\n",
        "pd.set_option('max_colwidth', 100)\n",
        "\n",
        "asc_rules = association_rules(fp_frequent_itemset, metric=\"lift\",min_threshold=1)\n",
        "print('\\nAssociation Rules: ')\n",
        "print(asc_rules)\n",
        "\n",
        "# resetting the values to default \n",
        "#pd.reset_option(\"display.max_rows\") \n",
        "pd.reset_option(\"display.max_colwidth\") \n",
        "pd.reset_option(\"display.max_columns\")"
      ],
      "execution_count": null,
      "outputs": [
        {
          "output_type": "stream",
          "text": [
            "\n",
            "Association Rules: \n",
            "              antecedents            consequents  antecedent support  \\\n",
            "0                  (PV_1)                 (ID_1)            0.857178   \n",
            "1                  (ID_1)                 (PV_1)            0.903893   \n",
            "2     (Returning_Visitor)                 (PV_1)            0.855718   \n",
            "3                  (PV_1)    (Returning_Visitor)            0.857178   \n",
            "4                  (PV_1)        (Revenue_False)            0.857178   \n",
            "5         (Revenue_False)                 (PV_1)            0.845255   \n",
            "6                  (ID_1)        (Revenue_False)            0.903893   \n",
            "7         (Revenue_False)                 (ID_1)            0.845255   \n",
            "8     (Returning_Visitor)        (Revenue_False)            0.855718   \n",
            "9         (Revenue_False)    (Returning_Visitor)            0.845255   \n",
            "10           (PV_1, ID_1)        (Revenue_False)            0.783861   \n",
            "11  (PV_1, Revenue_False)                 (ID_1)            0.797080   \n",
            "12  (ID_1, Revenue_False)                 (PV_1)            0.773966   \n",
            "13                 (PV_1)  (ID_1, Revenue_False)            0.857178   \n",
            "14                 (ID_1)  (PV_1, Revenue_False)            0.903893   \n",
            "15        (Revenue_False)           (PV_1, ID_1)            0.845255   \n",
            "16           (SD_1, PV_1)        (Revenue_False)            0.763341   \n",
            "17  (SD_1, Revenue_False)                 (PV_1)            0.750041   \n",
            "18                 (PV_1)  (SD_1, Revenue_False)            0.857178   \n",
            "19        (Revenue_False)           (SD_1, PV_1)            0.845255   \n",
            "20                 (ID_1)                  (I_1)            0.903893   \n",
            "21                  (I_1)                 (ID_1)            0.786618   \n",
            "22           (SD_1, ID_1)                  (I_1)            0.808597   \n",
            "23            (SD_1, I_1)                 (ID_1)            0.700487   \n",
            "24                 (ID_1)            (SD_1, I_1)            0.903893   \n",
            "25                  (I_1)           (SD_1, ID_1)            0.786618   \n",
            "\n",
            "    consequent support   support  confidence      lift  leverage  conviction  \n",
            "0             0.903893  0.783861    0.914467  1.011698  0.009064    1.123623  \n",
            "1             0.857178  0.783861    0.867205  1.011698  0.009064    1.075510  \n",
            "2             0.857178  0.742822    0.868069  1.012707  0.009320    1.082557  \n",
            "3             0.855718  0.742822    0.866591  1.012707  0.009320    1.081503  \n",
            "4             0.845255  0.797080    0.929889  1.100128  0.072546    2.207146  \n",
            "5             0.857178  0.797080    0.943005  1.100128  0.072546    2.505884  \n",
            "6             0.845255  0.773966    0.856258  1.013017  0.009945    1.076547  \n",
            "7             0.903893  0.773966    0.915659  1.013017  0.009945    1.139508  \n",
            "8             0.845255  0.736496    0.860677  1.018244  0.013196    1.110687  \n",
            "9             0.855718  0.736496    0.871330  1.018244  0.013196    1.121334  \n",
            "10            0.845255  0.736091    0.939058  1.110976  0.073528    2.539229  \n",
            "11            0.903893  0.736091    0.923484  1.021674  0.015616    1.256037  \n",
            "12            0.857178  0.736091    0.951064  1.109529  0.072665    2.918531  \n",
            "13            0.773966  0.736091    0.858738  1.109529  0.072665    1.600103  \n",
            "14            0.797080  0.736091    0.814356  1.021674  0.015616    1.093060  \n",
            "15            0.783861  0.736091    0.870850  1.110976  0.073528    1.673556  \n",
            "16            0.845255  0.704704    0.923183  1.092194  0.059485    2.014461  \n",
            "17            0.857178  0.704704    0.939554  1.096102  0.061786    2.362829  \n",
            "18            0.750041  0.704704    0.822121  1.096102  0.061786    1.405224  \n",
            "19            0.763341  0.704704    0.833717  1.092194  0.059485    1.423229  \n",
            "20            0.786618  0.786618    0.870256  1.106326  0.075600    1.644635  \n",
            "21            0.903893  0.786618    1.000000  1.106326  0.075600         inf  \n",
            "22            0.786618  0.700487    0.866299  1.101296  0.064430    1.595963  \n",
            "23            0.903893  0.700487    1.000000  1.106326  0.067322         inf  \n",
            "24            0.700487  0.700487    0.774966  1.106326  0.067322    1.330972  \n",
            "25            0.808597  0.700487    0.890504  1.101296  0.064430    1.748040  \n"
          ],
          "name": "stdout"
        }
      ]
    },
    {
      "cell_type": "code",
      "metadata": {
        "colab": {
          "base_uri": "https://localhost:8080/"
        },
        "id": "S_zk1gzU4si3",
        "outputId": "0d1ce0b5-da7a-4691-969d-ae351029a191"
      },
      "source": [
        "antecendents_arr = asc_rules.antecedents\n",
        "consequents_arr = asc_rules.consequents\n",
        "support_arr = asc_rules.support\n",
        "\n",
        "for i in range(len(support_arr)):\n",
        "  a_ls = list(antecendents_arr[i])\n",
        "  c_ls = list(consequents_arr[i])\n",
        "\n",
        "  revenue_true = \"Revenue_True\"\n",
        "  revenue_false = \"Revenue_False\"\n",
        "  if revenue_true in str(a_ls):\n",
        "    message = \"If Revenue True then it contains \" + str(c_ls) + \"  with support \" + str(support_arr[i])\n",
        "    print(message)\n",
        "  elif revenue_false in str(a_ls):\n",
        "    message = \"If Revenue False then it contains \" + str(c_ls) + \"  with support \" + str(support_arr[i])\n",
        "    print(message)\n",
        "print(\"--- FP Growth: %s seconds ---\" % (time.time() - start_time))\n",
        "\n"
      ],
      "execution_count": null,
      "outputs": [
        {
          "output_type": "stream",
          "text": [
            "If Revenue False then it contains ['PV_1']  with support 0.7970802919708029\n",
            "If Revenue False then it contains ['ID_1']  with support 0.7739659367396594\n",
            "If Revenue False then it contains ['Returning_Visitor']  with support 0.7364963503649635\n",
            "If Revenue False then it contains ['ID_1']  with support 0.7360908353609084\n",
            "If Revenue False then it contains ['PV_1']  with support 0.7360908353609084\n",
            "If Revenue False then it contains ['PV_1', 'ID_1']  with support 0.7360908353609084\n",
            "If Revenue False then it contains ['PV_1']  with support 0.7047039740470398\n",
            "If Revenue False then it contains ['SD_1', 'PV_1']  with support 0.7047039740470398\n",
            "--- FP Growth: 0.21065115928649902 seconds ---\n"
          ],
          "name": "stdout"
        }
      ]
    },
    {
      "cell_type": "markdown",
      "metadata": {
        "id": "XOp1ySDOjTGa"
      },
      "source": [
        "# ***ECLAT Frequent Pattern Mining***"
      ]
    },
    {
      "cell_type": "code",
      "metadata": {
        "colab": {
          "base_uri": "https://localhost:8080/"
        },
        "id": "6ExOeFNecgF9",
        "outputId": "abf025ce-3b97-4844-9a5b-a8ee606fa94a"
      },
      "source": [
        "pip install apyori"
      ],
      "execution_count": null,
      "outputs": [
        {
          "output_type": "stream",
          "text": [
            "Collecting apyori\n",
            "  Downloading https://files.pythonhosted.org/packages/5e/62/5ffde5c473ea4b033490617ec5caa80d59804875ad3c3c57c0976533a21a/apyori-1.1.2.tar.gz\n",
            "Building wheels for collected packages: apyori\n",
            "  Building wheel for apyori (setup.py) ... \u001b[?25l\u001b[?25hdone\n",
            "  Created wheel for apyori: filename=apyori-1.1.2-cp36-none-any.whl size=5977 sha256=8b3891f514daaa0914e6c48232b88376db444dfab744eb7c92fdac6d61f15ee3\n",
            "  Stored in directory: /root/.cache/pip/wheels/5d/92/bb/474bbadbc8c0062b9eb168f69982a0443263f8ab1711a8cad0\n",
            "Successfully built apyori\n",
            "Installing collected packages: apyori\n",
            "Successfully installed apyori-1.1.2\n"
          ],
          "name": "stdout"
        }
      ]
    },
    {
      "cell_type": "code",
      "metadata": {
        "colab": {
          "base_uri": "https://localhost:8080/"
        },
        "id": "okAlW4xZfm3U",
        "outputId": "6461269e-da8f-4ab3-f810-53800a1694d0"
      },
      "source": [
        "#import library\n",
        "import pandas as pd\n",
        "from apyori import apriori\n",
        "from mlxtend.frequent_patterns import apriori,association_rules\n",
        "\n",
        "DF_Eclat = DF_F_P_M\n",
        "\n",
        "start_time = time.time()\n",
        "\n",
        "frequent_itemsets = apriori(DF_Eclat, min_support=0.7, use_colnames=True)\n",
        "#bulid association rules using support metric\n",
        "rules = association_rules(frequent_itemsets, metric=\"support\", support_only=True, min_threshold=0.1 )\n",
        "\n",
        "#use only support metric in Eclat algo using apriori\n",
        "\n",
        "rules = rules[['antecedents', 'consequents', 'support']]\n",
        "ruless = rules.sort_values('support', ascending=False)\n",
        "\n",
        "print(ruless)"
      ],
      "execution_count": null,
      "outputs": [
        {
          "output_type": "stream",
          "text": [
            "              antecedents            consequents   support\n",
            "6                  (SD_1)                 (ID_1)  0.808597\n",
            "7                  (ID_1)                 (SD_1)  0.808597\n",
            "16                 (PV_1)        (Revenue_False)  0.797080\n",
            "17        (Revenue_False)                 (PV_1)  0.797080\n",
            "0                  (ID_1)                  (I_1)  0.786618\n",
            "1                   (I_1)                 (ID_1)  0.786618\n",
            "5                  (ID_1)                 (PV_1)  0.783861\n",
            "4                  (PV_1)                 (ID_1)  0.783861\n",
            "10                 (ID_1)        (Revenue_False)  0.773966\n",
            "11        (Revenue_False)                 (ID_1)  0.773966\n",
            "9                  (ID_1)    (Returning_Visitor)  0.768289\n",
            "8     (Returning_Visitor)                 (ID_1)  0.768289\n",
            "12                 (SD_1)                 (PV_1)  0.763341\n",
            "13                 (PV_1)                 (SD_1)  0.763341\n",
            "19    (Returning_Visitor)                 (SD_1)  0.758962\n",
            "18                 (SD_1)    (Returning_Visitor)  0.758962\n",
            "20                 (SD_1)        (Revenue_False)  0.750041\n",
            "21        (Revenue_False)                 (SD_1)  0.750041\n",
            "15                 (PV_1)    (Returning_Visitor)  0.742822\n",
            "14    (Returning_Visitor)                 (PV_1)  0.742822\n",
            "22    (Returning_Visitor)        (Revenue_False)  0.736496\n",
            "23        (Revenue_False)    (Returning_Visitor)  0.736496\n",
            "35        (Revenue_False)           (PV_1, ID_1)  0.736091\n",
            "34                 (ID_1)  (PV_1, Revenue_False)  0.736091\n",
            "33                 (PV_1)  (ID_1, Revenue_False)  0.736091\n",
            "32  (ID_1, Revenue_False)                 (PV_1)  0.736091\n",
            "31  (PV_1, Revenue_False)                 (ID_1)  0.736091\n",
            "30           (PV_1, ID_1)        (Revenue_False)  0.736091\n",
            "36           (SD_1, PV_1)        (Revenue_False)  0.704704\n",
            "37  (SD_1, Revenue_False)                 (PV_1)  0.704704\n",
            "38  (PV_1, Revenue_False)                 (SD_1)  0.704704\n",
            "39                 (SD_1)  (PV_1, Revenue_False)  0.704704\n",
            "40                 (PV_1)  (SD_1, Revenue_False)  0.704704\n",
            "41        (Revenue_False)           (SD_1, PV_1)  0.704704\n",
            "28                 (ID_1)            (SD_1, I_1)  0.700487\n",
            "29                  (I_1)           (SD_1, ID_1)  0.700487\n",
            "27                 (SD_1)            (ID_1, I_1)  0.700487\n",
            "26            (ID_1, I_1)                 (SD_1)  0.700487\n",
            "25            (SD_1, I_1)                 (ID_1)  0.700487\n",
            "24           (SD_1, ID_1)                  (I_1)  0.700487\n",
            "2                  (SD_1)                  (I_1)  0.700487\n",
            "3                   (I_1)                 (SD_1)  0.700487\n"
          ],
          "name": "stdout"
        }
      ]
    },
    {
      "cell_type": "code",
      "metadata": {
        "colab": {
          "base_uri": "https://localhost:8080/"
        },
        "id": "XQKJIGLbxdDA",
        "outputId": "80e64269-4422-470e-a2f0-dd8f417ec1ea"
      },
      "source": [
        "antecendents_arr = rules.antecedents\n",
        "consequents_arr = rules.consequents\n",
        "support_arr = rules.support\n",
        "\n",
        "for i in range(len(support_arr)):\n",
        "  a_ls = list(antecendents_arr[i])\n",
        "  c_ls = list(consequents_arr[i])\n",
        "\n",
        "  revenue_true = \"Revenue_True\"\n",
        "  revenue_false = \"Revenue_False\"\n",
        "  if revenue_true in str(a_ls):\n",
        "    message = \"If Revenue True then it contains \" + str(c_ls) + \"  with support \" + str(support_arr[i])\n",
        "    print(message)\n",
        "  elif revenue_false in str(a_ls):\n",
        "    message = \"If Revenue False then it contains \" + str(c_ls) + \"  with support \" + str(support_arr[i])\n",
        "    print(message)\n",
        "print(\"--- ECLAT: %s seconds ---\" % (time.time() - start_time))\n",
        "\n"
      ],
      "execution_count": null,
      "outputs": [
        {
          "output_type": "stream",
          "text": [
            "If Revenue False then it contains ['ID_1']  with support 0.7739659367396594\n",
            "If Revenue False then it contains ['PV_1']  with support 0.7970802919708029\n",
            "If Revenue False then it contains ['SD_1']  with support 0.7500405515004055\n",
            "If Revenue False then it contains ['Returning_Visitor']  with support 0.7364963503649635\n",
            "If Revenue False then it contains ['ID_1']  with support 0.7360908353609084\n",
            "If Revenue False then it contains ['PV_1']  with support 0.7360908353609084\n",
            "If Revenue False then it contains ['PV_1', 'ID_1']  with support 0.7360908353609084\n",
            "If Revenue False then it contains ['PV_1']  with support 0.7047039740470398\n",
            "If Revenue False then it contains ['SD_1']  with support 0.7047039740470398\n",
            "If Revenue False then it contains ['SD_1', 'PV_1']  with support 0.7047039740470398\n",
            "--- ECLAT: 0.06887102127075195 seconds ---\n"
          ],
          "name": "stdout"
        }
      ]
    },
    {
      "cell_type": "markdown",
      "metadata": {
        "id": "DT85xcfQ6JQX"
      },
      "source": [
        "# ***Data Preprocess For Clustering***\n",
        "\n",
        "\n",
        "\n"
      ]
    },
    {
      "cell_type": "code",
      "metadata": {
        "colab": {
          "base_uri": "https://localhost:8080/"
        },
        "id": "it-DXAZ96TDO",
        "outputId": "7dba58e9-448d-43d0-e9e5-f3ff377dde64"
      },
      "source": [
        "import pandas as pd \n",
        "\n",
        "col_names = ['Administrative', 'Administrative_Duration', 'Informational', 'Informational_Duration', 'ProductRelated', 'ProductRelated_Duration', 'BounceRates', 'ExitRates', 'PageValues', 'SpecialDay', 'Month', 'OperatingSystems', 'Browser', 'Region', 'TrafficType', 'VisitorType','Weekend', 'Revenue']\n",
        "DF_C = pd.read_csv(\"online_shoppers_intention.csv\", header=0, names=col_names)\n",
        "\n",
        "DF_C = DF_C.replace('New_Visitor', 0)\n",
        "DF_C = DF_C.replace('Returning_Visitor', 1)\n",
        "DF_C = DF_C.replace('Other', 2)\n",
        "DF_C = DF_C.replace('Feb', 2)\n",
        "DF_C = DF_C.replace('Mar', 3)\n",
        "DF_C = DF_C.replace('May', 5)\n",
        "DF_C = DF_C.replace('June', 6)\n",
        "DF_C = DF_C.replace('Jul', 7)\n",
        "DF_C = DF_C.replace('Aug', 8)\n",
        "DF_C = DF_C.replace('Sep', 9)\n",
        "DF_C = DF_C.replace('Oct', 10)\n",
        "DF_C = DF_C.replace('Nov', 11)\n",
        "DF_C = DF_C.replace('Dec', 12)\n",
        "DF_C = DF_C.replace(False, 0)\n",
        "DF_C = DF_C.replace(True, 1)\n",
        "\n",
        "print(\"After some preprocess for clustering, information of our dataset can be seen below...\")\n",
        "print(DF_C.info())\n"
      ],
      "execution_count": null,
      "outputs": [
        {
          "output_type": "stream",
          "text": [
            "After some preprocess for clustering, information of our dataset can be seen below...\n",
            "<class 'pandas.core.frame.DataFrame'>\n",
            "RangeIndex: 12330 entries, 0 to 12329\n",
            "Data columns (total 18 columns):\n",
            " #   Column                   Non-Null Count  Dtype  \n",
            "---  ------                   --------------  -----  \n",
            " 0   Administrative           12330 non-null  int64  \n",
            " 1   Administrative_Duration  12330 non-null  float64\n",
            " 2   Informational            12330 non-null  int64  \n",
            " 3   Informational_Duration   12330 non-null  float64\n",
            " 4   ProductRelated           12330 non-null  int64  \n",
            " 5   ProductRelated_Duration  12330 non-null  float64\n",
            " 6   BounceRates              12330 non-null  float64\n",
            " 7   ExitRates                12330 non-null  float64\n",
            " 8   PageValues               12330 non-null  float64\n",
            " 9   SpecialDay               12330 non-null  float64\n",
            " 10  Month                    12330 non-null  int64  \n",
            " 11  OperatingSystems         12330 non-null  int64  \n",
            " 12  Browser                  12330 non-null  int64  \n",
            " 13  Region                   12330 non-null  int64  \n",
            " 14  TrafficType              12330 non-null  int64  \n",
            " 15  VisitorType              12330 non-null  int64  \n",
            " 16  Weekend                  12330 non-null  float64\n",
            " 17  Revenue                  12330 non-null  float64\n",
            "dtypes: float64(9), int64(9)\n",
            "memory usage: 1.7 MB\n",
            "None\n"
          ],
          "name": "stdout"
        }
      ]
    },
    {
      "cell_type": "code",
      "metadata": {
        "colab": {
          "base_uri": "https://localhost:8080/",
          "height": 86
        },
        "id": "utt7nwxPSUi3",
        "outputId": "bc258303-ab43-4a15-82c2-03360fd976d6"
      },
      "source": [
        "'''\n",
        "True_Label = DF_C.Revenue\n",
        "DF_C_temp = DF_C\n",
        "DF_C_temp = DF_C_temp.drop('Revenue', axis=1)\n",
        "x = preprocessing.normalize(DF_C_temp)\n",
        "\n",
        "plt.scatter(x[True_Label==0, 0], x[True_Label==0, 1], s=5, c='blue', label ='Revenue_False')\n",
        "plt.scatter(x[True_Label==1, 0], x[True_Label==1, 1], s=5, c='red', label ='Revenue_True')\n",
        "plt.title('True Labeled Cluster Plot')\n",
        "plt.xlabel('')\n",
        "plt.ylabel('')\n",
        "plt.legend();\n",
        "plt.show()\n",
        "'''"
      ],
      "execution_count": null,
      "outputs": [
        {
          "output_type": "execute_result",
          "data": {
            "application/vnd.google.colaboratory.intrinsic+json": {
              "type": "string"
            },
            "text/plain": [
              "\"\\nTrue_Label = DF_C.Revenue\\nDF_C_temp = DF_C\\nDF_C_temp = DF_C_temp.drop('Revenue', axis=1)\\nx = preprocessing.normalize(DF_C_temp)\\n\\nplt.scatter(x[True_Label==0, 0], x[True_Label==0, 1], s=5, c='blue', label ='Revenue_False')\\nplt.scatter(x[True_Label==1, 0], x[True_Label==1, 1], s=5, c='red', label ='Revenue_True')\\nplt.title('True Labeled Cluster Plot')\\nplt.xlabel('')\\nplt.ylabel('')\\nplt.legend();\\nplt.show()\\n\""
            ]
          },
          "metadata": {
            "tags": []
          },
          "execution_count": 19
        }
      ]
    },
    {
      "cell_type": "code",
      "metadata": {
        "colab": {
          "base_uri": "https://localhost:8080/",
          "height": 313
        },
        "id": "Ia1YWS24vLMp",
        "outputId": "383b62f3-a6ce-478e-ab31-96c2e8a50734"
      },
      "source": [
        "from sklearn.decomposition import PCA \n",
        "from sklearn.preprocessing import normalize \n",
        "import matplotlib.pyplot as plt\n",
        "\n",
        "True_Label = DF_C.Revenue\n",
        "DF_C_temp = DF_C\n",
        "DF_C_temp = DF_C_temp.drop('Revenue', axis=1)\n",
        "\n",
        "pca = PCA(n_components=2)\n",
        "pca_data = pca.fit_transform(DF_C_temp)\n",
        "print('Explained variation per principal component: {}'.format(pca.explained_variance_ratio_))\n",
        "\n",
        "plt.scatter(pca_data[True_Label==0, 0], pca_data[True_Label==0, 1], s=0.5, c='blue', label ='Revenue_False')\n",
        "plt.scatter(pca_data[True_Label==1, 0], pca_data[True_Label==1, 1], s=0.5, c='red', label ='Revenue_True')\n",
        "plt.title('True Labeled Cluster Plot')\n",
        "plt.xlabel('Information_1')\n",
        "plt.ylabel('Information_2')\n",
        "plt.legend();\n",
        "plt.show()"
      ],
      "execution_count": null,
      "outputs": [
        {
          "output_type": "stream",
          "text": [
            "Explained variation per principal component: [0.98773232 0.00754394]\n"
          ],
          "name": "stdout"
        },
        {
          "output_type": "display_data",
          "data": {
            "image/png": "[encoded data removed]",
            "text/plain": [
              "<Figure size 432x288 with 1 Axes>"
            ]
          },
          "metadata": {
            "tags": [],
            "needs_background": "light"
          }
        }
      ]
    },
    {
      "cell_type": "markdown",
      "metadata": {
        "id": "PT9Aro0LjTXl"
      },
      "source": [
        "# ***K-Means Clustering Analysis***"
      ]
    },
    {
      "cell_type": "code",
      "metadata": {
        "id": "qJMBOdJr1OvR",
        "colab": {
          "base_uri": "https://localhost:8080/"
        },
        "outputId": "feb1b569-c3fe-4a3d-e76d-9bfcecaf4d33"
      },
      "source": [
        "import pandas as pd \n",
        "import numpy as np\n",
        "from sklearn.cluster import KMeans\n",
        "from sklearn import metrics\n",
        "from sklearn import preprocessing\n",
        "from sklearn.preprocessing import MinMaxScaler\n",
        "\n",
        "DF_K_Means = DF_C\n",
        "\n",
        "start_time = time.time()\n",
        "\n",
        "Y_K_Means = np.array(DF_K_Means['Revenue'])\n",
        "DF_K_Means = DF_K_Means.drop('Revenue', axis=1)\n",
        "print('Normalizing data and separating label to test the clustering application')\n",
        "X_K_Means = preprocessing.normalize(DF_K_Means)\n",
        "\n",
        "scaler = MinMaxScaler()\n",
        "X_Scaled_K_Means = scaler.fit_transform(X_K_Means) # Increase of accuracy with 1% (.78)\n",
        "\n",
        "print('Since we have two values for labels we cluster data into two clusters\\n')\n",
        "\n",
        "kmeans =  KMeans(n_clusters=2) # .77 Normally\n",
        "kmeans.fit(X_Scaled_K_Means)  \n",
        "\n",
        "correct = 0 # To keep the count of the correctly clustered entities\n",
        "\n",
        "for i in range(len(X_K_Means)):\n",
        "    predict_me = np.array(X_K_Means[i].astype(float))\n",
        "    predict_me = predict_me.reshape(-1, len(predict_me))\n",
        "    prediction = kmeans.predict(predict_me)\n",
        "    # print(int(prediction[0]), int(Y_K_Means[i]))\n",
        "    if int(prediction[0]) == int(Y_K_Means[i]):\n",
        "        correct += 1\n",
        "\n",
        "print('Accuracy: ', correct/len(X_K_Means)) # Number of correctly clustered entities according to the lables\n",
        "print('Inertia: ', kmeans.inertia_) # Sum of squared distances of samples to their closest cluster center.\n",
        "print('Number of iterations: ', kmeans.n_iter_) # Number of iterations run.\n",
        "print('Centers of the two clusters: ')\n",
        "for i in kmeans.cluster_centers_:\n",
        "  print(i)\n",
        "\n",
        "Label_K_Means = kmeans.labels_\n",
        "print(\"\\nHomogeneity: %0.3f\" %metrics.homogeneity_score(True_Label, Label_K_Means))\n",
        "print(\"Completeness: %0.3f\" %metrics.completeness_score(True_Label, Label_K_Means))\n",
        "print(\"V-measure: %0.3f\" %metrics.v_measure_score(True_Label, Label_K_Means))\n",
        "print(\"Adjusted Rand Index: %0.3f\" %metrics.adjusted_rand_score(True_Label, Label_K_Means))\n",
        "print(\"Adjusted Mutual Information: %0.3f\" %metrics.adjusted_mutual_info_score(True_Label, Label_K_Means))\n",
        "print(\"Silhouette Coefficient: %0.3f\" %metrics.silhouette_score(X_Scaled_K_Means, Label_K_Means))"
      ],
      "execution_count": null,
      "outputs": [
        {
          "output_type": "stream",
          "text": [
            "Normalizing data and separating label to test the clustering application\n",
            "Since we have two values for labels we cluster data into two clusters\n",
            "\n",
            "Accuracy:  0.7836171938361719\n",
            "Inertia:  1247.5919368632851\n",
            "Number of iterations:  4\n",
            "Centers of the two clusters: \n",
            "[0.01444447 0.10546703 0.0042025  0.02648826 0.04591196 0.95481198\n",
            " 0.00135085 0.00418109 0.00979373 0.00156843 0.02985307 0.01332065\n",
            " 0.01153882 0.01413868 0.01753781 0.01164577 0.00348244]\n",
            "[1.54711946e-02 2.38626389e-02 8.77511873e-03 6.15194687e-03\n",
            " 1.70300702e-01 2.84151341e-02 3.10339428e-01 3.23381808e-01\n",
            " 6.07153217e-17 3.61067804e-02 6.35781413e-01 3.22103557e-01\n",
            " 2.70419406e-01 3.27872373e-01 3.90101672e-01 3.25853099e-01\n",
            " 6.81002602e-02]\n",
            "\n",
            "Homogeneity: 0.018\n",
            "Completeness: 0.033\n",
            "V-measure: 0.023\n",
            "Adjusted Rand Index: -0.066\n",
            "Adjusted Mutual Information: 0.023\n",
            "Silhouette Coefficient: 0.796\n"
          ],
          "name": "stdout"
        }
      ]
    },
    {
      "cell_type": "code",
      "metadata": {
        "id": "IPyQ89bhVLZs",
        "colab": {
          "base_uri": "https://localhost:8080/",
          "height": 69
        },
        "outputId": "df5d7e90-6108-450d-a12c-7c54515421bd"
      },
      "source": [
        "'''\n",
        "plt.scatter(X_Scaled_K_Means[Label_K_Means==0, 0], X_Scaled_K_Means[Label_K_Means==0, 1], s=5, c='blue', label ='Revenue_False')\n",
        "plt.scatter(X_Scaled_K_Means[Label_K_Means==1, 0], X_Scaled_K_Means[Label_K_Means==1, 1], s=5, c='red', label ='Revenue_True')\n",
        "plt.title('K_Means Cluster Plot')\n",
        "plt.xlabel('')\n",
        "plt.ylabel('')\n",
        "plt.legend();\n",
        "plt.show()\n",
        "'''"
      ],
      "execution_count": null,
      "outputs": [
        {
          "output_type": "execute_result",
          "data": {
            "application/vnd.google.colaboratory.intrinsic+json": {
              "type": "string"
            },
            "text/plain": [
              "\"\\nplt.scatter(X_Scaled_K_Means[Label_K_Means==0, 0], X_Scaled_K_Means[Label_K_Means==0, 1], s=5, c='blue', label ='Revenue_False')\\nplt.scatter(X_Scaled_K_Means[Label_K_Means==1, 0], X_Scaled_K_Means[Label_K_Means==1, 1], s=5, c='red', label ='Revenue_True')\\nplt.title('K_Means Cluster Plot')\\nplt.xlabel('')\\nplt.ylabel('')\\nplt.legend();\\nplt.show()\\n\""
            ]
          },
          "metadata": {
            "tags": []
          },
          "execution_count": 22
        }
      ]
    },
    {
      "cell_type": "code",
      "metadata": {
        "id": "CjeIB4DF7g-p",
        "colab": {
          "base_uri": "https://localhost:8080/",
          "height": 298
        },
        "outputId": "877eb09d-cf1b-441a-81f1-b69113fc1b78"
      },
      "source": [
        "import matplotlib.pyplot as plt\n",
        "plt.scatter(pca_data[Label_K_Means==0, 0], pca_data[Label_K_Means==0, 1], s=0.5, c='blue', label ='Revenue_False')\n",
        "plt.scatter(pca_data[Label_K_Means==1, 0], pca_data[Label_K_Means==1, 1], s=0.5, c='red', label ='Revenue_True')\n",
        "plt.title('K_Means Cluster Plot')\n",
        "plt.xlabel('')\n",
        "plt.ylabel('')\n",
        "plt.legend();\n",
        "plt.show()\n",
        "print(\"--- K-Means: %s seconds ---\" % (time.time() - start_time))\n"
      ],
      "execution_count": null,
      "outputs": [
        {
          "output_type": "display_data",
          "data": {
            "image/png": "[encoded data removed]",
            "text/plain": [
              "<Figure size 432x288 with 1 Axes>"
            ]
          },
          "metadata": {
            "tags": [],
            "needs_background": "light"
          }
        },
        {
          "output_type": "stream",
          "text": [
            "--- K-Means: 7.4846014976501465 seconds ---\n"
          ],
          "name": "stdout"
        }
      ]
    },
    {
      "cell_type": "markdown",
      "metadata": {
        "id": "8_PLD0AMjTnp"
      },
      "source": [
        "# ***AGNES Clustering Analysis***"
      ]
    },
    {
      "cell_type": "code",
      "metadata": {
        "id": "sxuZfKZHj90r",
        "colab": {
          "base_uri": "https://localhost:8080/"
        },
        "outputId": "64d77981-5097-49bf-cf38-6a0f029f327d"
      },
      "source": [
        "import pandas as pd\n",
        "import kmeans1d\n",
        "import numpy as np\n",
        "import matplotlib.pyplot as plt\n",
        "from sklearn.cluster import AgglomerativeClustering\n",
        "from sklearn.metrics import confusion_matrix\n",
        "from sklearn import preprocessing\n",
        "from sklearn.preprocessing import MinMaxScaler\n",
        "from sklearn import metrics\n",
        "\n",
        "DF_AGNES = DF_C\n",
        "\n",
        "start_time = time.time()\n",
        "\n",
        "DF_AGNES = DF_AGNES.drop('Revenue', axis=1)\n",
        "X_AGNES = preprocessing.normalize(DF_AGNES)\n",
        "\n",
        "Cluster_Agnes = AgglomerativeClustering(n_clusters=5, affinity='euclidean', linkage='ward')\n",
        "predict_label = Cluster_Agnes.fit_predict(X_AGNES)\n",
        "Label_AGNES = Cluster_Agnes.labels_\n",
        "\n",
        "print(\"Homogeneity: %0.3f\" %metrics.homogeneity_score(True_Label, Label_AGNES))\n",
        "print(\"Completeness: %0.3f\" %metrics.completeness_score(True_Label, Label_AGNES))\n",
        "print(\"V-measure: %0.3f\" %metrics.v_measure_score(True_Label, Label_AGNES))\n",
        "print(\"Adjusted Rand Index: %0.3f\" %metrics.adjusted_rand_score(True_Label, Label_AGNES))\n",
        "print(\"Adjusted Mutual Information: %0.3f\" %metrics.adjusted_mutual_info_score(True_Label, Label_AGNES))\n",
        "print(\"Silhouette Coefficient: %0.3f\" %metrics.silhouette_score(X_AGNES, Label_AGNES))\n"
      ],
      "execution_count": null,
      "outputs": [
        {
          "output_type": "stream",
          "text": [
            "Homogeneity: 0.022\n",
            "Completeness: 0.012\n",
            "V-measure: 0.016\n",
            "Adjusted Rand Index: -0.035\n",
            "Adjusted Mutual Information: 0.015\n",
            "Silhouette Coefficient: 0.639\n"
          ],
          "name": "stdout"
        }
      ]
    },
    {
      "cell_type": "code",
      "metadata": {
        "id": "9ARjpC_CQOiY",
        "colab": {
          "base_uri": "https://localhost:8080/",
          "height": 120
        },
        "outputId": "cf12e142-3735-48aa-a9cb-102db7a36bce"
      },
      "source": [
        "'''\n",
        "plt.scatter(X_AGNES[Label_AGNES==0, 0], X_AGNES[Label_AGNES==0, 1], s=5, c='blue', label ='Revenue_False')\n",
        "plt.scatter(X_AGNES[Label_AGNES==1, 0], X_AGNES[Label_AGNES==1, 1], s=5, c='red', label ='Revenue_True')\n",
        "#plt.scatter(X[a==2, 0], value[a==2, 1], s=100, c='green', label ='Cluster 3')\n",
        "#plt.scatter(X[a==2, 0], X[a==2, 1], s=100, c='green', label ='Cluster 3')\n",
        "#plt.scatter(X[a==3, 0], X[a==3, 1], s=100, c='cyan', label ='Cluster 4')\n",
        "#plt.scatter(X[a==4, 0], X[a==4, 1], s=100, c='magenta', label ='Cluster 5')\n",
        "plt.title('Agnes Cluster Plot')\n",
        "plt.xlabel('')\n",
        "plt.ylabel('')\n",
        "plt.legend();\n",
        "plt.show()\n",
        "'''"
      ],
      "execution_count": null,
      "outputs": [
        {
          "output_type": "execute_result",
          "data": {
            "application/vnd.google.colaboratory.intrinsic+json": {
              "type": "string"
            },
            "text/plain": [
              "\"\\nplt.scatter(X_AGNES[Label_AGNES==0, 0], X_AGNES[Label_AGNES==0, 1], s=5, c='blue', label ='Revenue_False')\\nplt.scatter(X_AGNES[Label_AGNES==1, 0], X_AGNES[Label_AGNES==1, 1], s=5, c='red', label ='Revenue_True')\\n#plt.scatter(X[a==2, 0], value[a==2, 1], s=100, c='green', label ='Cluster 3')\\n#plt.scatter(X[a==2, 0], X[a==2, 1], s=100, c='green', label ='Cluster 3')\\n#plt.scatter(X[a==3, 0], X[a==3, 1], s=100, c='cyan', label ='Cluster 4')\\n#plt.scatter(X[a==4, 0], X[a==4, 1], s=100, c='magenta', label ='Cluster 5')\\nplt.title('Agnes Cluster Plot')\\nplt.xlabel('')\\nplt.ylabel('')\\nplt.legend();\\nplt.show()\\n\""
            ]
          },
          "metadata": {
            "tags": []
          },
          "execution_count": 25
        }
      ]
    },
    {
      "cell_type": "code",
      "metadata": {
        "id": "vmhr6T_c8eYY",
        "colab": {
          "base_uri": "https://localhost:8080/",
          "height": 298
        },
        "outputId": "d2f4b07b-ae6d-4529-d446-fe28eb3d7d59"
      },
      "source": [
        "plt.scatter(pca_data[Label_AGNES==0, 0], pca_data[Label_AGNES==0, 1], s=0.5, c='blue', label ='Revenue_False')\n",
        "plt.scatter(pca_data[Label_AGNES==1, 0], pca_data[Label_AGNES==1, 1], s=0.5, c='red', label ='Revenue_True')\n",
        "plt.title('Agnes Cluster Plot')\n",
        "plt.xlabel('')\n",
        "plt.ylabel('')\n",
        "plt.legend();\n",
        "plt.show()\n",
        "print(\"--- AGNES: %s seconds ---\" % (time.time() - start_time))\n"
      ],
      "execution_count": null,
      "outputs": [
        {
          "output_type": "display_data",
          "data": {
            "image/png": "[encoded data removed]",
            "text/plain": [
              "<Figure size 432x288 with 1 Axes>"
            ]
          },
          "metadata": {
            "tags": [],
            "needs_background": "light"
          }
        },
        {
          "output_type": "stream",
          "text": [
            "--- AGNES: 19.191159963607788 seconds ---\n"
          ],
          "name": "stdout"
        }
      ]
    },
    {
      "cell_type": "markdown",
      "metadata": {
        "id": "ss6BOjHsi2ot"
      },
      "source": [
        "# ***DBSCAN Clustering Analysis***"
      ]
    },
    {
      "cell_type": "code",
      "metadata": {
        "id": "CAfxm-Ok7i_N",
        "colab": {
          "base_uri": "https://localhost:8080/",
          "height": 273
        },
        "outputId": "e6f6cb66-68a8-4d53-ca49-05feedbaf6d8"
      },
      "source": [
        "import pandas as pd \n",
        "import numpy as np\n",
        "from sklearn.cluster import DBSCAN\n",
        "from sklearn import metrics\n",
        "from sklearn import preprocessing\n",
        "import matplotlib.pyplot as plt\n",
        "\n",
        "DF_DBSCAN = DF_C\n",
        "\n",
        "start_time = time.time()\n",
        "\n",
        "\n",
        "#y = np.array(DF_AGNES['Revenue'])\n",
        "DF_DBSCAN = DF_DBSCAN.drop('Revenue', axis=1)\n",
        "X_DBSCAN = preprocessing.normalize(DF_DBSCAN)\n",
        "\n",
        "Cluster_DBSCAN = DBSCAN(eps=0.25, min_samples=20).fit(X_DBSCAN)\n",
        "Label_DBSCAN = Cluster_DBSCAN.labels_\n",
        "\n",
        "core_samples_mask = np.zeros_like(Label_DBSCAN, dtype=bool)\n",
        "core_samples_mask[Cluster_DBSCAN.core_sample_indices_] = True\n",
        "\n",
        "# Number of clusters in labels, ignoring noise if present.\n",
        "n_clusters_ = len(set(Label_DBSCAN)) - (1 if -1 in Label_DBSCAN else 0)\n",
        "n_noise_ = list(Label_DBSCAN).count(-1)\n",
        "\n",
        "\n",
        "print('Estimated number of clusters: %d' % n_clusters_)\n",
        "print('Estimated number of noise points: %d' % n_noise_)\n",
        "print(\"Homogeneity: %0.3f\" % metrics.homogeneity_score(True_Label, Label_DBSCAN))\n",
        "print(\"Completeness: %0.3f\" % metrics.completeness_score(True_Label, Label_DBSCAN))\n",
        "print(\"V-measure: %0.3f\" % metrics.v_measure_score(True_Label, Label_DBSCAN))\n",
        "print(\"Adjusted Rand Index: %0.3f\" % metrics.adjusted_rand_score(True_Label, Label_DBSCAN))\n",
        "print(\"Adjusted Mutual Information: %0.3f\" % metrics.adjusted_mutual_info_score(True_Label, Label_DBSCAN))\n",
        "print(\"Silhouette Coefficient: %0.3f\" % metrics.silhouette_score(X_DBSCAN, Label_DBSCAN))\n",
        "\n",
        "'''\n",
        "# Plot result\n",
        "# Black removed and is used for noise instead.\n",
        "unique_labels = set(labels)\n",
        "colors = [plt.cm.Spectral(each)\n",
        "          for each in np.linspace(0, 1, len(unique_labels))]\n",
        "for k, col in zip(unique_labels, colors):\n",
        "    if k == -1:\n",
        "        # Black used for noise.\n",
        "        col = [0, 0, 1]\n",
        "\n",
        "    class_member_mask = (labels == k)\n",
        "\n",
        "    xy = X_DBSCAN[class_member_mask & core_samples_mask]\n",
        "    plt.plot(xy[:, 0], xy[:, 1], 'o', markerfacecolor=tuple(col),\n",
        "             markeredgecolor='r', markersize=1)\n",
        "\n",
        "    xy = X_DBSCAN[class_member_mask & ~core_samples_mask]\n",
        "    plt.plot(xy[:, 0], xy[:, 1], 'o', markerfacecolor=tuple(col),\n",
        "             markeredgecolor='b', markersize=1)\n",
        "\n",
        "plt.title('Estimated number of clusters: %d' % n_clusters_)\n",
        "plt.show()\n",
        "\n",
        "print(\"Finished\")\n",
        "\n",
        "'''"
      ],
      "execution_count": null,
      "outputs": [
        {
          "output_type": "stream",
          "text": [
            "Estimated number of clusters: 2\n",
            "Estimated number of noise points: 159\n",
            "Homogeneity: 0.019\n",
            "Completeness: 0.030\n",
            "V-measure: 0.023\n",
            "Adjusted Rand Index: -0.064\n",
            "Adjusted Mutual Information: 0.023\n",
            "Silhouette Coefficient: 0.746\n"
          ],
          "name": "stdout"
        },
        {
          "output_type": "execute_result",
          "data": {
            "application/vnd.google.colaboratory.intrinsic+json": {
              "type": "string"
            },
            "text/plain": [
              "'\\n# Plot result\\n# Black removed and is used for noise instead.\\nunique_labels = set(labels)\\ncolors = [plt.cm.Spectral(each)\\n          for each in np.linspace(0, 1, len(unique_labels))]\\nfor k, col in zip(unique_labels, colors):\\n    if k == -1:\\n        # Black used for noise.\\n        col = [0, 0, 1]\\n\\n    class_member_mask = (labels == k)\\n\\n    xy = X_DBSCAN[class_member_mask & core_samples_mask]\\n    plt.plot(xy[:, 0], xy[:, 1], \\'o\\', markerfacecolor=tuple(col),\\n             markeredgecolor=\\'r\\', markersize=1)\\n\\n    xy = X_DBSCAN[class_member_mask & ~core_samples_mask]\\n    plt.plot(xy[:, 0], xy[:, 1], \\'o\\', markerfacecolor=tuple(col),\\n             markeredgecolor=\\'b\\', markersize=1)\\n\\nplt.title(\\'Estimated number of clusters: %d\\' % n_clusters_)\\nplt.show()\\n\\nprint(\"Finished\")\\n\\n'"
            ]
          },
          "metadata": {
            "tags": []
          },
          "execution_count": 27
        }
      ]
    },
    {
      "cell_type": "code",
      "metadata": {
        "id": "5QllXrLkYlLH",
        "colab": {
          "base_uri": "https://localhost:8080/",
          "height": 86
        },
        "outputId": "987f73e5-b2f4-4c19-b53b-2f8f23dd8e32"
      },
      "source": [
        "'''\n",
        "plt.scatter(pca_data[Label_DBSCAN==-1, 0], pca_data[Label_DBSCAN==-1, 1], s=5, c='black', label ='Noise Points')\n",
        "plt.scatter(pca_data[Label_DBSCAN==0, 0], pca_data[Label_DBSCAN==0, 1], s=5, c='blue', label ='Revenue_False')\n",
        "plt.scatter(pca_data[Label_DBSCAN==1, 0], pca_data[Label_DBSCAN==1, 1], s=5, c='red', label ='Revenue_True')\n",
        "plt.title('DBSCAN Cluster Plot')\n",
        "plt.xlabel('')\n",
        "plt.ylabel('')\n",
        "plt.legend();\n",
        "plt.show()\n",
        "'''"
      ],
      "execution_count": null,
      "outputs": [
        {
          "output_type": "execute_result",
          "data": {
            "application/vnd.google.colaboratory.intrinsic+json": {
              "type": "string"
            },
            "text/plain": [
              "\"\\nplt.scatter(pca_data[Label_DBSCAN==-1, 0], pca_data[Label_DBSCAN==-1, 1], s=5, c='black', label ='Noise Points')\\nplt.scatter(pca_data[Label_DBSCAN==0, 0], pca_data[Label_DBSCAN==0, 1], s=5, c='blue', label ='Revenue_False')\\nplt.scatter(pca_data[Label_DBSCAN==1, 0], pca_data[Label_DBSCAN==1, 1], s=5, c='red', label ='Revenue_True')\\nplt.title('DBSCAN Cluster Plot')\\nplt.xlabel('')\\nplt.ylabel('')\\nplt.legend();\\nplt.show()\\n\""
            ]
          },
          "metadata": {
            "tags": []
          },
          "execution_count": 28
        }
      ]
    },
    {
      "cell_type": "code",
      "metadata": {
        "id": "RAAuvINE8z0A",
        "colab": {
          "base_uri": "https://localhost:8080/",
          "height": 298
        },
        "outputId": "9e1eee0c-1096-4e4e-a1e0-d6ee4a23135b"
      },
      "source": [
        "plt.scatter(pca_data[Label_DBSCAN==0, 0], pca_data[Label_DBSCAN==0, 1], s=0.5, c='blue', label ='Revenue_False')\n",
        "plt.scatter(pca_data[Label_DBSCAN==1, 0], pca_data[Label_DBSCAN==1, 1], s=0.5, c='red', label ='Revenue_True')\n",
        "#plt.scatter(X[a==2, 0], value[a==2, 1], s=100, c='green', label ='Cluster 3')\n",
        "#plt.scatter(X[a==2, 0], X[a==2, 1], s=100, c='green', label ='Cluster 3')\n",
        "#plt.scatter(X[a==3, 0], X[a==3, 1], s=100, c='cyan', label ='Cluster 4')\n",
        "#plt.scatter(X[a==4, 0], X[a==4, 1], s=100, c='magenta', label ='Cluster 5')\n",
        "plt.title('DBSCAN Cluster Plot')\n",
        "plt.xlabel('')\n",
        "plt.ylabel('')\n",
        "plt.legend();\n",
        "plt.show()\n",
        "print(\"--- DBSCAN: %s seconds ---\" % (time.time() - start_time))\n"
      ],
      "execution_count": null,
      "outputs": [
        {
          "output_type": "display_data",
          "data": {
            "image/png": "[encoded data removed]",
            "text/plain": [
              "<Figure size 432x288 with 1 Axes>"
            ]
          },
          "metadata": {
            "tags": [],
            "needs_background": "light"
          }
        },
        {
          "output_type": "stream",
          "text": [
            "--- DBSCAN: 6.39860463142395 seconds ---\n"
          ],
          "name": "stdout"
        }
      ]
    },
    {
      "cell_type": "markdown",
      "metadata": {
        "id": "Blzoe93kb1CZ"
      },
      "source": [
        "# ***Visualize All Graphs***"
      ]
    },
    {
      "cell_type": "code",
      "metadata": {
        "id": "cws3Am-2b6de",
        "colab": {
          "base_uri": "https://localhost:8080/",
          "height": 171
        },
        "outputId": "eece3c2d-6f43-4a63-ec99-1e10e1ea4ff2"
      },
      "source": [
        "'''\n",
        "fig, axs = plt.subplots(2, 2)\n",
        "\n",
        "axs[0,0].scatter(x[True_Label==0, 0], x[True_Label==0, 1], s=5, c='blue', label ='False')\n",
        "axs[0,0].scatter(x[True_Label==1, 0], x[True_Label==1, 1], s=5, c='red', label ='True')\n",
        "axs[0,0].set_title('True Labeled Cluster Plot')\n",
        "axs[0,0].legend();\n",
        "\n",
        "axs[0,1].scatter(X_Scaled_K_Means[Label_K_Means==0, 0], X_Scaled_K_Means[Label_K_Means==0, 1], s=5, c='blue', label ='Revenue_False')\n",
        "axs[0,1].scatter(X_Scaled_K_Means[Label_K_Means==1, 0], X_Scaled_K_Means[Label_K_Means==1, 1], s=5, c='red', label ='Revenue_True')\n",
        "axs[0,1].set_title('K_Means Cluster Plot')\n",
        "\n",
        "axs[1,0].scatter(X_AGNES[Label_AGNES==0, 0], X_AGNES[Label_AGNES==0, 1], s=5, c='blue', label ='False')\n",
        "axs[1,0].scatter(X_AGNES[Label_AGNES==1, 0], X_AGNES[Label_AGNES==1, 1], s=5, c='red', label ='True')\n",
        "axs[1,0].set_title('Agnes Cluster Plot')\n",
        "\n",
        "\n",
        "axs[1,1].scatter(X_DBSCAN[Label_DBSCAN==-1, 0], X_DBSCAN[Label_DBSCAN==-1, 1], s=5, c='black', label ='Noise')\n",
        "axs[1,1].scatter(X_DBSCAN[Label_DBSCAN==0, 0], X_DBSCAN[Label_DBSCAN==0, 1], s=5, c='blue', label ='False')\n",
        "axs[1,1].scatter(X_DBSCAN[Label_DBSCAN==1, 0], X_DBSCAN[Label_DBSCAN==1, 1], s=5, c='red', label ='True')\n",
        "axs[1,1].set_title('DBSCAN Cluster Plot')\n",
        "\n",
        "\n",
        "for ax in axs.flat:\n",
        "    ax.set(xlabel='x-label', ylabel='y-label')\n",
        "\n",
        "# Hide x labels and tick labels for top plots and y ticks for right plots.\n",
        "for ax in axs.flat:\n",
        "    ax.label_outer()\n",
        "'''"
      ],
      "execution_count": null,
      "outputs": [
        {
          "output_type": "execute_result",
          "data": {
            "application/vnd.google.colaboratory.intrinsic+json": {
              "type": "string"
            },
            "text/plain": [
              "\"\\nfig, axs = plt.subplots(2, 2)\\n\\naxs[0,0].scatter(x[True_Label==0, 0], x[True_Label==0, 1], s=5, c='blue', label ='False')\\naxs[0,0].scatter(x[True_Label==1, 0], x[True_Label==1, 1], s=5, c='red', label ='True')\\naxs[0,0].set_title('True Labeled Cluster Plot')\\naxs[0,0].legend();\\n\\naxs[0,1].scatter(X_Scaled_K_Means[Label_K_Means==0, 0], X_Scaled_K_Means[Label_K_Means==0, 1], s=5, c='blue', label ='Revenue_False')\\naxs[0,1].scatter(X_Scaled_K_Means[Label_K_Means==1, 0], X_Scaled_K_Means[Label_K_Means==1, 1], s=5, c='red', label ='Revenue_True')\\naxs[0,1].set_title('K_Means Cluster Plot')\\n\\naxs[1,0].scatter(X_AGNES[Label_AGNES==0, 0], X_AGNES[Label_AGNES==0, 1], s=5, c='blue', label ='False')\\naxs[1,0].scatter(X_AGNES[Label_AGNES==1, 0], X_AGNES[Label_AGNES==1, 1], s=5, c='red', label ='True')\\naxs[1,0].set_title('Agnes Cluster Plot')\\n\\n\\naxs[1,1].scatter(X_DBSCAN[Label_DBSCAN==-1, 0], X_DBSCAN[Label_DBSCAN==-1, 1], s=5, c='black', label ='Noise')\\naxs[1,1].scatter(X_DBSCAN[Label_DBSCAN==0, 0], X_DBSCAN[Label_DBSCAN==0, 1], s=5, c='blue', label ='False')\\naxs[1,1].scatter(X_DBSCAN[Label_DBSCAN==1, 0], X_DBSCAN[Label_DBSCAN==1, 1], s=5, c='red', label ='True')\\naxs[1,1].set_title('DBSCAN Cluster Plot')\\n\\n\\nfor ax in axs.flat:\\n    ax.set(xlabel='x-label', ylabel='y-label')\\n\\n# Hide x labels and tick labels for top plots and y ticks for right plots.\\nfor ax in axs.flat:\\n    ax.label_outer()\\n\""
            ]
          },
          "metadata": {
            "tags": []
          },
          "execution_count": 30
        }
      ]
    },
    {
      "cell_type": "code",
      "metadata": {
        "id": "phex-rgj8_Zx",
        "colab": {
          "base_uri": "https://localhost:8080/",
          "height": 296
        },
        "outputId": "3d38d775-68cd-429b-ecbc-dd6836640b18"
      },
      "source": [
        "fig, axs = plt.subplots(2, 2)\n",
        "\n",
        "axs[0,0].scatter(pca_data[True_Label==0, 0], pca_data[True_Label==0, 1], s=0.5, c='blue', label ='False')\n",
        "axs[0,0].scatter(pca_data[True_Label==1, 0], pca_data[True_Label==1, 1], s=0.5, c='red', label ='True')\n",
        "axs[0,0].set_title('True Labeled Cluster Plot')\n",
        "\n",
        "\n",
        "axs[0,1].scatter(pca_data[Label_K_Means==0, 0], pca_data[Label_K_Means==0, 1], s=0.5, c='blue', label ='Revenue_False')\n",
        "axs[0,1].scatter(pca_data[Label_K_Means==1, 0], pca_data[Label_K_Means==1, 1], s=0.5, c='red', label ='Revenue_True')\n",
        "axs[0,1].set_title('K_Means Cluster Plot')\n",
        "\n",
        "axs[1,0].scatter(pca_data[Label_AGNES==0, 0], pca_data[Label_AGNES==0, 1], s=0.5, c='blue', label ='False')\n",
        "axs[1,0].scatter(pca_data[Label_AGNES==1, 0], pca_data[Label_AGNES==1, 1], s=0.5, c='red', label ='True')\n",
        "axs[1,0].set_title('Agnes Cluster Plot')\n",
        "\n",
        "\n",
        "axs[1,1].scatter(pca_data[Label_DBSCAN==-1, 0], pca_data[Label_DBSCAN==-1, 1], s=0.5, c='black', label ='Noise')\n",
        "axs[1,1].scatter(pca_data[Label_DBSCAN==0, 0], pca_data[Label_DBSCAN==0, 1], s=0.5, c='blue', label ='False')\n",
        "axs[1,1].scatter(pca_data[Label_DBSCAN==1, 0], pca_data[Label_DBSCAN==1, 1], s=0.5, c='red', label ='True')\n",
        "axs[1,1].set_title('DBSCAN Cluster Plot')\n",
        "axs[1,1].legend();\n",
        "\n",
        "for ax in axs.flat:\n",
        "    ax.set(xlabel='Information_1', ylabel='Information_2')\n",
        "\n",
        "# Hide x labels and tick labels for top plots and y ticks for right plots.\n",
        "for ax in axs.flat:\n",
        "    ax.label_outer()"
      ],
      "execution_count": null,
      "outputs": [
        {
          "output_type": "display_data",
          "data": {
            "image/png": "[encoded data removed]",
            "text/plain": [
              "<Figure size 432x288 with 4 Axes>"
            ]
          },
          "metadata": {
            "tags": [],
            "needs_background": "light"
          }
        }
      ]
    },
    {
      "cell_type": "markdown",
      "metadata": {
        "id": "hrR2xYbunv9y"
      },
      "source": [
        "# ***Different Cluster approach***"
      ]
    },
    {
      "cell_type": "code",
      "metadata": {
        "colab": {
          "base_uri": "https://localhost:8080/"
        },
        "id": "XHbHB8fBn5N1",
        "outputId": "f44f5bf4-e2eb-4f30-e4de-ecee9c135188"
      },
      "source": [
        "data = DF_C\n",
        "data = data.drop('Revenue', axis=1)\n",
        "\n",
        "pca = PCA(n_components=3)\n",
        "pca_data = pca.fit_transform(data)\n",
        "print('Explained variation per principal component: {}'.format(pca.explained_variance_ratio_))\n",
        "\n",
        "Normalize_pca_data = normalize(pca_data)\n",
        "DF_pca_data = pd.DataFrame(data = Normalize_pca_data, columns = ['principal_component1', 'principal_component2', 'principal_component3'] )\n",
        "\n",
        "info = pd.Series(DF_pca_data.principal_component1).array\n",
        "Variable_1 = pd.DataFrame(data = info, columns = ['information'] )\n",
        "info_2 = pd.Series(DF_pca_data.principal_component2).array\n",
        "Variable_2 = pd.DataFrame(data = info_2, columns = ['information_2'] )\n",
        "\n",
        "DF_finale = pd.concat((Variable_1, Variable_2), axis=1)"
      ],
      "execution_count": null,
      "outputs": [
        {
          "output_type": "stream",
          "text": [
            "Explained variation per principal component: [0.98773232 0.00754394 0.00448199]\n"
          ],
          "name": "stdout"
        }
      ]
    },
    {
      "cell_type": "code",
      "metadata": {
        "colab": {
          "base_uri": "https://localhost:8080/"
        },
        "id": "oqeKtYYYoFQs",
        "outputId": "c297708d-09a9-4b95-a303-d46d4eabb091"
      },
      "source": [
        "db = DBSCAN(eps=0.25, min_samples=20).fit(DF_finale)\n",
        "db_labels = db.labels_\n",
        "\n",
        "kmeans =  KMeans(n_clusters=2).fit(DF_finale) \n",
        "kmeans_labels = kmeans.labels_\n",
        "\n",
        "Agnes = AgglomerativeClustering(n_clusters=2, affinity='euclidean', linkage='ward')\n",
        "predict_label = Agnes.fit_predict(DF_finale)\n",
        "agnes_labels = Agnes.labels_\n",
        "\n",
        "# Number of clusters in labels, ignoring noise if present.\n",
        "n_clusters_ = len(set(db_labels)) - (1 if -1 in db_labels else 0)\n",
        "n_noise_ = list(db_labels).count(-1)\n",
        "\n",
        "\n",
        "print(\"For kmeans Homogeneity: %0.3f\" % metrics.homogeneity_score(True_Label, kmeans_labels))\n",
        "print(\"For kmeans Completeness: %0.3f\" % metrics.completeness_score(True_Label, kmeans_labels))\n",
        "print(\"Silhouette Coefficient: %0.3f\" % metrics.silhouette_score(DF_finale, kmeans_labels))\n",
        "print(\"\")\n",
        "print(\"For dbscan Homogeneity: %0.3f\" % metrics.homogeneity_score(True_Label, agnes_labels))\n",
        "print(\"For dbscan Completeness: %0.3f\" % metrics.completeness_score(True_Label, agnes_labels))\n",
        "print(\"Silhouette Coefficient: %0.3f\" % metrics.silhouette_score(DF_finale, agnes_labels))\n",
        "print(\"\")\n",
        "print('For dbscan Estimated number of clusters: %d' % n_clusters_)\n",
        "print('For dbscan Estimated number of noise points: %d' % n_noise_)\n",
        "print(\"For dbscan Homogeneity: %0.3f\" % metrics.homogeneity_score(True_Label, db_labels))\n",
        "print(\"For dbscan Completeness: %0.3f\" % metrics.completeness_score(True_Label, db_labels))\n",
        "print(\"Silhouette Coefficient: %0.3f\" % metrics.silhouette_score(DF_finale, db_labels))\n"
      ],
      "execution_count": null,
      "outputs": [
        {
          "output_type": "stream",
          "text": [
            "For kmeans Homogeneity: 0.025\n",
            "For kmeans Completeness: 0.017\n",
            "Silhouette Coefficient: 0.863\n",
            "\n",
            "For dbscan Homogeneity: 0.023\n",
            "For dbscan Completeness: 0.016\n",
            "Silhouette Coefficient: 0.856\n",
            "\n",
            "For dbscan Estimated number of clusters: 1\n",
            "For dbscan Estimated number of noise points: 7\n",
            "For dbscan Homogeneity: 0.000\n",
            "For dbscan Completeness: 0.000\n",
            "Silhouette Coefficient: 0.131\n"
          ],
          "name": "stdout"
        }
      ]
    },
    {
      "cell_type": "code",
      "metadata": {
        "colab": {
          "base_uri": "https://localhost:8080/",
          "height": 1000
        },
        "id": "nq0yz98zoY0z",
        "outputId": "d4e80bf0-3559-4233-cedf-5435ca4ae754"
      },
      "source": [
        "from sklearn.decomposition import PCA \n",
        "from sklearn.preprocessing import normalize \n",
        "import matplotlib.pyplot as plt\n",
        "\n",
        "True_Label = DF_C.Revenue\n",
        "DF_C_temp = DF_C\n",
        "DF_C_temp = DF_C_temp.drop('Revenue', axis=1)\n",
        "\n",
        "pca = PCA(n_components=2)\n",
        "pca_data = pca.fit_transform(DF_C_temp)\n",
        "print('Explained variation per principal component: {}'.format(pca.explained_variance_ratio_))\n",
        "\n",
        "#X_Approach = pd.Series(DF_finale).array\n",
        "plt.scatter(pca_data[True_Label==0, 0], pca_data[True_Label==0, 1], s=1, c='blue', label ='Revenue_False')\n",
        "plt.scatter(pca_data[True_Label==1, 0], pca_data[True_Label==1, 1], s=1, c='red', label ='Revenue_True')\n",
        "plt.title('True Labeled Cluster Plot')\n",
        "plt.xlabel('Information_1')\n",
        "plt.ylabel('Information_2')\n",
        "plt.legend();\n",
        "plt.show()\n",
        "\n",
        "plt.scatter(pca_data[kmeans_labels==0, 0], pca_data[kmeans_labels==0, 1], s=1, c='blue', label ='Revenue_False')\n",
        "plt.scatter(pca_data[kmeans_labels==1, 0], pca_data[kmeans_labels==1, 1], s=1, c='red', label ='Revenue_True')\n",
        "plt.title('K-means Cluster Plot')\n",
        "plt.xlabel('Information_1')\n",
        "plt.ylabel('Information_2')\n",
        "plt.legend();\n",
        "plt.show()\n",
        "\n",
        "\n",
        "plt.scatter(pca_data[agnes_labels==0, 0], pca_data[agnes_labels==0, 1], s=1, c='blue', label ='Revenue_False')\n",
        "plt.scatter(pca_data[agnes_labels==1, 0], pca_data[agnes_labels==1, 1], s=1, c='red', label ='Revenue_True')\n",
        "plt.title('Agnes Cluster Plot')\n",
        "plt.xlabel('Information_1')\n",
        "plt.ylabel('Information_2')\n",
        "plt.legend();\n",
        "plt.show()\n",
        "\n",
        "\n",
        "plt.scatter(pca_data[db_labels==-1, 0], pca_data[db_labels==-1, 1], s=1, c='black', label ='Noise Point')\n",
        "plt.scatter(pca_data[db_labels==0, 0], pca_data[db_labels==0, 1], s=1, c='blue', label ='Revenue_False')\n",
        "plt.scatter(pca_data[db_labels==1, 0], pca_data[db_labels==1, 1], s=1, c='red', label ='Revenue_True')\n",
        "plt.scatter(pca_data[db_labels==2, 0], pca_data[db_labels==2, 1], s=1, c='green', label ='Miss Labeled')\n",
        "plt.title('DBSCAN Cluster Plot')\n",
        "plt.xlabel('Information_1')\n",
        "plt.ylabel('Information_2')\n",
        "plt.legend();\n",
        "plt.show()\n",
        "\n",
        "\n"
      ],
      "execution_count": null,
      "outputs": [
        {
          "output_type": "stream",
          "text": [
            "Explained variation per principal component: [0.98773232 0.00754394]\n"
          ],
          "name": "stdout"
        },
        {
          "output_type": "display_data",
          "data": {
            "image/png": "[encoded data removed]",
            "text/plain": [
              "<Figure size 432x288 with 1 Axes>"
            ]
          },
          "metadata": {
            "tags": [],
            "needs_background": "light"
          }
        },
        {
          "output_type": "display_data",
          "data": {
            "image/png": "[encoded data removed]",
            "text/plain": [
              "<Figure size 432x288 with 1 Axes>"
            ]
          },
          "metadata": {
            "tags": [],
            "needs_background": "light"
          }
        },
        {
          "output_type": "display_data",
          "data": {
            "image/png": "[encoded data removed]",
            "text/plain": [
              "<Figure size 432x288 with 1 Axes>"
            ]
          },
          "metadata": {
            "tags": [],
            "needs_background": "light"
          }
        },
        {
          "output_type": "display_data",
          "data": {
            "image/png": "[encoded data removed]",
            "text/plain": [
              "<Figure size 432x288 with 1 Axes>"
            ]
          },
          "metadata": {
            "tags": [],
            "needs_background": "light"
          }
        }
      ]
    }
  ]
}